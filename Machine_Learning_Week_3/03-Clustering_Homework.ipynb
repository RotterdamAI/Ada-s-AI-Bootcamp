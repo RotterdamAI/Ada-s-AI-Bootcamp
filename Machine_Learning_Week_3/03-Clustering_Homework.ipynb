{
  "nbformat": 4,
  "nbformat_minor": 0,
  "metadata": {
    "colab": {
      "name": "Clustering-Homework.ipynb",
      "provenance": [],
      "collapsed_sections": []
    },
    "kernelspec": {
      "name": "python3",
      "display_name": "Python 3"
    }
  },
  "cells": [
    {
      "cell_type": "markdown",
      "metadata": {
        "id": "9IbCj4qqPdBR",
        "colab_type": "text"
      },
      "source": [
        "## K-means clustering\n",
        "In this homework your task will be to try the k-means clustering algorithm on a different dataset with various settings."
      ]
    },
    {
      "cell_type": "markdown",
      "metadata": {
        "id": "FCCUDPUaZWBr",
        "colab_type": "text"
      },
      "source": [
        "Let's use the wine dataset, which has 13 features and 3 sorts (classes) of wine (unnamed)."
      ]
    },
    {
      "cell_type": "code",
      "metadata": {
        "id": "uvfeMtJFZnjP",
        "colab_type": "code",
        "colab": {}
      },
      "source": [
        "# import ...\n",
        "wine = datasets.load_wine()"
      ],
      "execution_count": 0,
      "outputs": []
    },
    {
      "cell_type": "code",
      "metadata": {
        "id": "62PxNHzpZp_o",
        "colab_type": "code",
        "colab": {}
      },
      "source": [
        "# Convert the dataset into the pandas DataFrame\n",
        "X = ...\n",
        "y = ..."
      ],
      "execution_count": 0,
      "outputs": []
    },
    {
      "cell_type": "code",
      "metadata": {
        "id": "KoSfIAeiZw1N",
        "colab_type": "code",
        "colab": {}
      },
      "source": [
        "# Let's try some scatter plots first to see if any feature combination gives seems promising for a clustering algorithm.\n",
        "plt.subplot(...) # Make more than one subplot\n",
        "plt.scatter(...)\n",
        "plt.title(...)"
      ],
      "execution_count": 0,
      "outputs": []
    },
    {
      "cell_type": "markdown",
      "metadata": {
        "id": "ktKh-NaXbJT5",
        "colab_type": "text"
      },
      "source": [
        "A clustering algorithm (here: k-means) can, of course, work with more than two features, however, for the sake of nice visualizations, let's use two features at a time. Later, we can include more features and see if our performance measures suggest any improvement. "
      ]
    },
    {
      "cell_type": "code",
      "metadata": {
        "id": "jTGPqAs0bsAf",
        "colab_type": "code",
        "colab": {}
      },
      "source": [
        "# Pick some two features that seem to give nice separated clusters in the plots above:\n",
        "features_2 = ['feature0','feature1'] # replace with your feature names\n",
        "X_2 = X[features_2]"
      ],
      "execution_count": 0,
      "outputs": []
    },
    {
      "cell_type": "markdown",
      "metadata": {
        "id": "1lz49vPUcOJ-",
        "colab_type": "text"
      },
      "source": [
        "**Note:** do not forget to scale your features!"
      ]
    },
    {
      "cell_type": "code",
      "metadata": {
        "id": "GXCWG_Daclfk",
        "colab_type": "code",
        "colab": {}
      },
      "source": [
        "# Now apply k-means to your data. Determine the best k value using WCSS method:\n",
        "...\n",
        "# Repeat this for 3 different pairs of features, see which one works best.\n",
        "..."
      ],
      "execution_count": 0,
      "outputs": []
    },
    {
      "cell_type": "markdown",
      "metadata": {
        "id": "aDsVGUrFc7Dp",
        "colab_type": "text"
      },
      "source": [
        "### Clustering evaluation:\n",
        "\n",
        "Evaluation of the result of a clustering algorithm is a more difficult task than for classification, because in the general case the ground truth (the correct answers/labels) is not available; in fact, there is often no target variable. Additionally, evaluating an algorithm using the same distance measure as the one it was produced with can be biased. \n",
        "\n",
        "There are, however, nevertheless, multuiple evaluation measures, both for the case where the ground truth data is present and when it is absent. In this homework, let's consider a few of these measures: Adjusted Rand index, Homogeneity, completeness and V-measure; and Silhouette Coefficient. Both of them are implemented in the *sklearn* library.\n",
        "\n",
        "**Adjusted Rand index** requires ground truth labels and compares them to the labels produced by the clustering algorithm (the way they are named/numbered does not matter). The result is a number in the range [-1, 1].\n",
        "\n",
        "**Homogeneity, completeness and V-measure** also require ground truth labels. These measures are very similar to per-cluster precision, recall and F1-score:\n",
        "**Homogeneity** score is at its maximum if each cluster contains only members of a single class. In turn, **completeness** attains its maximum when all members of a given class are assigned to the same cluster.\n",
        "\n",
        "For mathematical formula, reference, code and more evaluation metrics, see:  **[Clustering performance evaluation](https://scikit-learn.org/stable/modules/clustering.html#clustering-performance-evaluation)**.\n"
      ]
    },
    {
      "cell_type": "code",
      "metadata": {
        "id": "Ns4XMYOkj1CR",
        "colab_type": "code",
        "colab": {}
      },
      "source": [
        "# For each of the instances of the clustering algorithm implemented earlier, complute the evaluation measures, as defined above. You can use the code provided in the link above.\n",
        "# You can also use these measures to see how the k-means algorithm performs when given all 13 features.\n",
        "# The output can be a table, with rows being algorithm evaluation instances (different features, different k) and columns being evaluation metrics."
      ],
      "execution_count": 0,
      "outputs": []
    },
    {
      "cell_type": "markdown",
      "metadata": {
        "id": "emCKr-wqoDfG",
        "colab_type": "text"
      },
      "source": [
        "## Optional: Hierarchical clustering\n",
        "Let's explore another type of clustering algorithms in more detail using the wine dataset (3 classes). Hierarchical clustering algorithms (HCA) (https://en.wikipedia.org/wiki/K-means_clustering) also produces clusters, however, it does so also producing a dendrogram (tree structure) of the clusters, thus the name of the technique. \n",
        "\n",
        "There are two main approaches: \n",
        "1. Top-down (divisive): start with everything in one cluster and split it;\n",
        "2. Bottom-up (agglomerative): start with each instance being its own cluster and then merge them.\n",
        "\n",
        "The image below shows the algorithm (agglomerative clustering) and an example output."
      ]
    },
    {
      "cell_type": "code",
      "metadata": {
        "id": "-zk7Csn0n_lx",
        "colab_type": "code",
        "colab": {}
      },
      "source": [
        "import numpy as np\n",
        "import matplotlib.pyplot as plt\n",
        "from mpl_toolkits.mplot3d import Axes3D\n",
        "import pandas as pd\n",
        "from sklearn import datasets, cluster\n",
        "%matplotlib inline"
      ],
      "execution_count": 0,
      "outputs": []
    },
    {
      "cell_type": "code",
      "metadata": {
        "id": "1k0R_gqJrqTa",
        "colab_type": "code",
        "colab": {}
      },
      "source": [
        "# Let's use wine again\n",
        "wine = datasets.load_wine()"
      ],
      "execution_count": 0,
      "outputs": []
    },
    {
      "cell_type": "code",
      "metadata": {
        "id": "wZX8sOuOr3g9",
        "colab_type": "code",
        "colab": {}
      },
      "source": [
        "# Convert it to pandas dataframe if necessary\n",
        "X = pd.DataFrame(data.data, columns=data.feature_names)\n",
        "y = pd.DataFrame(data.target, columns=['Target'])"
      ],
      "execution_count": 0,
      "outputs": []
    },
    {
      "cell_type": "markdown",
      "metadata": {
        "id": "DjeervhNKlPe",
        "colab_type": "text"
      },
      "source": [
        "Like k-means clustering, hierarchical clustering also requires a **distance measure** (the parameter is called 'affinity'). Euclidean distance metric is used as a default.\n",
        "\n",
        "Apart from the distance metric, the algorithm also needs a **linkage criterion**. The linkage criterion determines **from where** the distance is computed, in other words, how is the distance between the two clusters is defined. The distance (e.g. euclidean) between two clusters can be measured as the distance between their closest elements (single linkage), their farthest elements (complete linkage), their centers (average linkage). A reasonable default choice is the Ward's method.\n",
        "\n",
        "The choice of both metric and linkage can be determined from the domain knowledge (not always possible) or by validation (if clustering eventually used for classification).\n",
        "\n",
        "In practice, hierarchical clustering is used less often than k-means."
      ]
    },
    {
      "cell_type": "code",
      "metadata": {
        "id": "IZi3xiRh5pqg",
        "colab_type": "code",
        "colab": {}
      },
      "source": [
        "# Let's apply clustering to several different pairs of features first\n",
        "two_features = ['feature 1','feature 2'] # replace with appropriate features\n",
        "# two_features = ['alcohol', 'malic_acid']\n",
        "average_agglomerative_clustering = cluster.AgglomerativeClustering(\n",
        "        n_clusters=3, linkage='average', affinity='euclidean')\n",
        "predicted = average_agglomerative_clustering.fit(X.iloc[0:20,:]);"
      ],
      "execution_count": 0,
      "outputs": []
    },
    {
      "cell_type": "code",
      "metadata": {
        "id": "TlqTj6nzACeO",
        "colab_type": "code",
        "colab": {}
      },
      "source": [
        "# Plot the clusters (colored as prediction results) as a scatterplot, as well as the actual labels\n",
        "# Disclaimer: this is just for testing purposes\n",
        "..."
      ],
      "execution_count": 0,
      "outputs": []
    },
    {
      "cell_type": "markdown",
      "metadata": {
        "id": "LfYMxKAoYQum",
        "colab_type": "text"
      },
      "source": [
        "Let's also print the actual dendrogram produced by the algorithm (more easily seen with a few instances):"
      ]
    },
    {
      "cell_type": "code",
      "metadata": {
        "id": "WunJMRM2W_Il",
        "colab_type": "code",
        "colab": {}
      },
      "source": [
        "from scipy.cluster.hierarchy import dendrogram\n",
        "\n",
        "def plot_dendrogram(model, **kwargs):\n",
        "\n",
        "    # Children of hierarchical clustering\n",
        "    children = model.children_\n",
        "\n",
        "    # Distances between each pair of children\n",
        "    # Since we don't have this information, we can use a uniform one for plotting\n",
        "    distance = np.arange(children.shape[0])\n",
        "\n",
        "    # The number of observations contained in each cluster level\n",
        "    no_of_observations = np.arange(2, children.shape[0]+2)\n",
        "\n",
        "    # Create linkage matrix and then plot the dendrogram\n",
        "    linkage_matrix = np.column_stack([children, distance, no_of_observations]).astype(float)\n",
        "\n",
        "    # Plot the corresponding dendrogram\n",
        "    dendrogram(linkage_matrix, **kwargs)"
      ],
      "execution_count": 0,
      "outputs": []
    },
    {
      "cell_type": "code",
      "metadata": {
        "id": "SSKNVlsoXLF_",
        "colab_type": "code",
        "colab": {
          "base_uri": "https://localhost:8080/",
          "height": 284
        },
        "outputId": "56820e81-9d1a-43bd-f482-8391bf0bf607"
      },
      "source": [
        "plt.title('Hierarchical Clustering Dendrogram')\n",
        "plot_dendrogram(predicted, labels=predicted.labels_)\n",
        "plt.show()"
      ],
      "execution_count": 79,
      "outputs": [
        {
          "output_type": "display_data",
          "data": {
            "image/png": "[encoded data removed]",
            "text/plain": [
              "<Figure size 432x288 with 1 Axes>"
            ]
          },
          "metadata": {
            "tags": []
          }
        }
      ]
    }
  ]
}