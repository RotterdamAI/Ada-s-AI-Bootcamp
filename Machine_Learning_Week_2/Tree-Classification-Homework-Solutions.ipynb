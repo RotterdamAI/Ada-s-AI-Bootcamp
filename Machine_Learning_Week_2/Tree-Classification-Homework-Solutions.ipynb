{
 "cells": [
  {
   "cell_type": "markdown",
   "metadata": {},
   "source": [
    "## Entropy and Information Gain\n",
    "Consider an example where we are building a decision tree to predict whether a loan given to a person would result in a write-off or not. Our entire population consists of 30 instances. 16 belong to the write-off class and the other 14 belong to the non-write-off class. We have two features, namely “Balance” that can take on two values -> “< 50K” or “>50K” and “Residence” that can take on three values -> “OWN”, “RENT” or “OTHER”. \n",
    "\n",
    "Your tasks are to demonstrate how a decision tree algorithm would decide what attribute to split on first and what feature provides more information, or reduces more uncertainty about our target variable out of the two using the concepts of Entropy and Information Gain."
   ]
  },
  {
   "cell_type": "code",
   "execution_count": 1,
   "metadata": {},
   "outputs": [],
   "source": [
    "# Import relevant libraries\n",
    "import pandas as pd\n",
    "import numpy as np"
   ]
  },
  {
   "cell_type": "code",
   "execution_count": 2,
   "metadata": {},
   "outputs": [
    {
     "data": {
      "text/html": [
       "<div>\n",
       "<style scoped>\n",
       "    .dataframe tbody tr th:only-of-type {\n",
       "        vertical-align: middle;\n",
       "    }\n",
       "\n",
       "    .dataframe tbody tr th {\n",
       "        vertical-align: top;\n",
       "    }\n",
       "\n",
       "    .dataframe thead th {\n",
       "        text-align: right;\n",
       "    }\n",
       "</style>\n",
       "<table border=\"1\" class=\"dataframe\">\n",
       "  <thead>\n",
       "    <tr style=\"text-align: right;\">\n",
       "      <th></th>\n",
       "      <th>Class</th>\n",
       "      <th>Balance</th>\n",
       "      <th>Residence</th>\n",
       "    </tr>\n",
       "  </thead>\n",
       "  <tbody>\n",
       "    <tr>\n",
       "      <th>0</th>\n",
       "      <td>Write-Off</td>\n",
       "      <td>&lt;50K</td>\n",
       "      <td>OWN</td>\n",
       "    </tr>\n",
       "    <tr>\n",
       "      <th>1</th>\n",
       "      <td>Write-Off</td>\n",
       "      <td>&lt;50K</td>\n",
       "      <td>OWN</td>\n",
       "    </tr>\n",
       "    <tr>\n",
       "      <th>2</th>\n",
       "      <td>Write-Off</td>\n",
       "      <td>&lt;50K</td>\n",
       "      <td>OWN</td>\n",
       "    </tr>\n",
       "    <tr>\n",
       "      <th>3</th>\n",
       "      <td>Write-Off</td>\n",
       "      <td>&lt;50K</td>\n",
       "      <td>OWN</td>\n",
       "    </tr>\n",
       "    <tr>\n",
       "      <th>4</th>\n",
       "      <td>Write-Off</td>\n",
       "      <td>&lt;50K</td>\n",
       "      <td>OWN</td>\n",
       "    </tr>\n",
       "  </tbody>\n",
       "</table>\n",
       "</div>"
      ],
      "text/plain": [
       "       Class Balance Residence\n",
       "0  Write-Off    <50K       OWN\n",
       "1  Write-Off    <50K       OWN\n",
       "2  Write-Off    <50K       OWN\n",
       "3  Write-Off    <50K       OWN\n",
       "4  Write-Off    <50K       OWN"
      ]
     },
     "execution_count": 2,
     "metadata": {},
     "output_type": "execute_result"
    }
   ],
   "source": [
    "# load the loan.csv file and save the data in variable loan... Note the delimiter of the file is ';'\n",
    "loan=pd.read_csv('loan.csv', sep=';')\n",
    "loan.head()"
   ]
  },
  {
   "cell_type": "markdown",
   "metadata": {},
   "source": [
    "## Entropy: Write-Offs vs. Non-Write-Offs\n",
    "<img src=\"https://miro.medium.com/max/1300/1*zMu0UClotNXljrjqmyRIHA.png\" alt=\"Example\" width=\"600\"/>\n",
    "\n",
    "Given the above example you will need to calculate the Entropy of the Root node, Entropy of the child nodes, and the information gain. The feature we are splitting on is **'Balance'**."
   ]
  },
  {
   "cell_type": "code",
   "execution_count": 3,
   "metadata": {},
   "outputs": [
    {
     "name": "stdout",
     "output_type": "stream",
     "text": [
      "Count of writes = 16\n",
      "Count of no-writes = 14\n",
      "Count of df = 30\n"
     ]
    }
   ],
   "source": [
    "count_write = loan.Class.value_counts()[0]\n",
    "count_no_write = loan.Class.value_counts()[1]\n",
    "count_total = len(loan)\n",
    "print('Count of writes =', count_write)\n",
    "print('Count of no-writes =', count_no_write)\n",
    "print('Count of df =', count_total)"
   ]
  },
  {
   "cell_type": "code",
   "execution_count": 4,
   "metadata": {},
   "outputs": [
    {
     "name": "stdout",
     "output_type": "stream",
     "text": [
      "The root entropy = 0.9967916319816366\n"
     ]
    }
   ],
   "source": [
    "# Calculate Entropy of the Root node\n",
    "entropy_root = -(16/30)*np.log2(16/30)-(14/30)*np.log2(14/30)\n",
    "print('The root entropy =',entropy_root)"
   ]
  },
  {
   "cell_type": "code",
   "execution_count": 5,
   "metadata": {},
   "outputs": [
    {
     "name": "stdout",
     "output_type": "stream",
     "text": [
      "The entropy of 'Balance <50K =' 0.39124356362925566 \n",
      "The entropy of 'Balance >=50K =' 0.7871265862012691\n"
     ]
    }
   ],
   "source": [
    "# Calculate Entropy of the Child Nodes\n",
    "entropy_1 = -(12/13)*np.log2(12/13)-(1/13)*np.log2(1/13)\n",
    "entropy_2 = -(4/17)*np.log2(4/17)-(13/17)*np.log2(13/17)\n",
    "print(\"The entropy of 'Balance <50K ='\",entropy_1,\n",
    "      \"\\nThe entropy of 'Balance >=50K ='\",entropy_2)"
   ]
  },
  {
   "cell_type": "code",
   "execution_count": 6,
   "metadata": {},
   "outputs": [],
   "source": [
    "# Which class has the purest split?\n",
    "# accounts with Balance <50K have the purest split"
   ]
  },
  {
   "cell_type": "markdown",
   "metadata": {},
   "source": [
    "Information Gain:\n",
    "IG=entropy(parent)-[weighted average]entropy(children)\n",
    "\n",
    "where\n",
    "        [weighted average]entropy(children)=(no. of examples in left child node) / (total no. of examples in parent node) * (entropy of left node) \n",
    "+ \n",
    "(no. of examples in right child node)/ (total no. of examples in parent node) * (entropy of right node)"
   ]
  },
  {
   "cell_type": "code",
   "execution_count": 7,
   "metadata": {},
   "outputs": [
    {
     "name": "stdout",
     "output_type": "stream",
     "text": [
      "The entropy of the Balance class = 0.6155772764200632\n"
     ]
    }
   ],
   "source": [
    "#weighted average of entropy children for balance is\n",
    "weighted_average_entropy_balance=(13/30)*entropy_1+(17/30)*entropy_2\n",
    "print('The entropy of the Balance class =',weighted_average_entropy_balance)"
   ]
  },
  {
   "cell_type": "markdown",
   "metadata": {},
   "source": [
    "<img src=\"https://miro.medium.com/max/1410/1*JaCz5L8AGreiPza3BLqF3Q.png\" alt=\"Example\" width=\"600\"/>\n",
    "\n",
    "\n",
    "Given the above example you will need to calculate the Entropy of the Root node, Entropy of the child nodes, and the information gain. The feature we are splitting on is **'Residence'**."
   ]
  },
  {
   "cell_type": "code",
   "execution_count": 8,
   "metadata": {},
   "outputs": [
    {
     "name": "stdout",
     "output_type": "stream",
     "text": [
      "Entropy of 'Residence = OWN' 0.5435644431995964 \n",
      "Entropy of 'Residence = RENT' 0.9709505944546686 \n",
      "Entropy of 'Residence = OTHER' 0.9798687566511528\n"
     ]
    }
   ],
   "source": [
    "# Calculate Entropy of the Child Nodes\n",
    "entropy_1 = -(7/8)*np.log2(7/8)-(1/8)*np.log2(1/8)\n",
    "entropy_2 = -(4/10)*np.log2(4/10)-(6/10)*np.log2(6/10)\n",
    "entropy_3 = -(5/12)*np.log2(5/12)-(7/12)*np.log2(7/12)\n",
    "# \n",
    "print(\"Entropy of 'Residence = OWN'\",entropy_1,\n",
    "      \"\\nEntropy of 'Residence = RENT'\", entropy_2, # by the way, \\n = new line\n",
    "      \"\\nEntropy of 'Residence = OTHER'\",entropy_3)"
   ]
  },
  {
   "cell_type": "code",
   "execution_count": 9,
   "metadata": {},
   "outputs": [
    {
     "name": "stdout",
     "output_type": "stream",
     "text": [
      "The w. average entropy of Residence nodes = 0.8605482189985763\n"
     ]
    }
   ],
   "source": [
    "#weighted average of entropy of children nodes based on residence\n",
    "weighted_average_entropy_residence=(8/30)*entropy_1+(10/30)*entropy_2+(12/30)*entropy_3\n",
    "print('The w. average entropy of Residence nodes =',weighted_average_entropy_residence)"
   ]
  },
  {
   "cell_type": "code",
   "execution_count": 10,
   "metadata": {},
   "outputs": [],
   "source": [
    "# Which class has the purest split?\n",
    "# 'Residence = OWN' has the purest split"
   ]
  },
  {
   "cell_type": "markdown",
   "metadata": {},
   "source": [
    "# Information Gain: Write-Offs vs. Non-Write-Offs\n",
    "Now that you've calculated the entropy per feature. What is the Information Gain when splitting on Balance and Residence?"
   ]
  },
  {
   "cell_type": "code",
   "execution_count": 11,
   "metadata": {},
   "outputs": [
    {
     "name": "stdout",
     "output_type": "stream",
     "text": [
      "0.38121435556157335\n"
     ]
    }
   ],
   "source": [
    "# Calculate the IG associated with Balance\n",
    "information_gain_balance = entropy_root-weighted_average_entropy_balance\n",
    "print(information_gain_balance)"
   ]
  },
  {
   "cell_type": "code",
   "execution_count": 12,
   "metadata": {},
   "outputs": [
    {
     "name": "stdout",
     "output_type": "stream",
     "text": [
      "0.1362434129830603\n"
     ]
    }
   ],
   "source": [
    "# Calculate the IG associated with Residence\n",
    "information_gain_residence = entropy_root-weighted_average_entropy_residence\n",
    "print(information_gain_residence)"
   ]
  },
  {
   "cell_type": "code",
   "execution_count": 13,
   "metadata": {},
   "outputs": [
    {
     "name": "stdout",
     "output_type": "stream",
     "text": [
      "We split on Balance as it provides us with the highest IG\n"
     ]
    }
   ],
   "source": [
    "# On what feature will the Decision Tree split and why?\n",
    "# we can split the decision tree based on the BALANCE feature which as HIGH information gain\n",
    "if information_gain_residence < information_gain_balance:\n",
    "    print('We split on Balance as it provides us with the highest IG')\n",
    "else:\n",
    "    print('We split on Residence as it provides us with the highest IG')"
   ]
  }
 ],
 "metadata": {
  "kernelspec": {
   "display_name": "Python 3",
   "language": "python",
   "name": "python3"
  },
  "language_info": {
   "codemirror_mode": {
    "name": "ipython",
    "version": 3
   },
   "file_extension": ".py",
   "mimetype": "text/x-python",
   "name": "python",
   "nbconvert_exporter": "python",
   "pygments_lexer": "ipython3",
   "version": "3.7.3"
  }
 },
 "nbformat": 4,
 "nbformat_minor": 2
}
