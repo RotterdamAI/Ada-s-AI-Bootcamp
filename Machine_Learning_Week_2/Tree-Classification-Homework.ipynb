{
 "cells": [
  {
   "cell_type": "markdown",
   "metadata": {},
   "source": [
    "## Entropy and Information Gain\n",
    "Consider an example where we are building a decision tree to predict whether a loan given to a person would result in a write-off or not. Our entire population consists of 30 instances. 16 belong to the write-off class and the other 14 belong to the non-write-off class. We have two features, namely “Balance” that can take on two values -> “< 50K” or “>50K” and “Residence” that can take on three values -> “OWN”, “RENT” or “OTHER”. \n",
    "\n",
    "Your tasks are to demonstrate how a decision tree algorithm would decide what attribute to split on first and what feature provides more information, or reduces more uncertainty about our target variable out of the two using the concepts of Entropy and Information Gain."
   ]
  },
  {
   "cell_type": "code",
   "execution_count": null,
   "metadata": {},
   "outputs": [],
   "source": [
    "# load the loan.csv file and save the data in variable loan... Note the delimiter of the file is ';'"
   ]
  },
  {
   "cell_type": "markdown",
   "metadata": {},
   "source": [
    "## Entropy: Write-Offs vs. Non-Write-Offs\n",
    "<img src=\"https://miro.medium.com/max/1300/1*zMu0UClotNXljrjqmyRIHA.png\" alt=\"Example\" width=\"600\"/>\n",
    "\n",
    "Given the above example you will need to calculate the Entropy of the Root node, Entropy of the child nodes, and the information gain. The feature we are splitting on is **'Balance'**."
   ]
  },
  {
   "cell_type": "code",
   "execution_count": null,
   "metadata": {},
   "outputs": [],
   "source": [
    "# Calculate Entropy of the Root node\n",
    "entropy_root = \n",
    "print(entropy_root)"
   ]
  },
  {
   "cell_type": "code",
   "execution_count": null,
   "metadata": {},
   "outputs": [],
   "source": [
    "# Calculate Entropy of the Child Nodes\n",
    "entropy_1 = \n",
    "entropy_2 = \n",
    "print(entropy_1,entropy_2)"
   ]
  },
  {
   "cell_type": "code",
   "execution_count": null,
   "metadata": {},
   "outputs": [],
   "source": [
    "# Which class has the purest split?"
   ]
  },
  {
   "cell_type": "markdown",
   "metadata": {},
   "source": [
    "<img src=\"https://miro.medium.com/max/1410/1*JaCz5L8AGreiPza3BLqF3Q.png\" alt=\"Example\" width=\"600\"/>\n",
    "\n",
    "\n",
    "Given the above example you will need to calculate the Entropy of the Root node, Entropy of the child nodes, and the information gain. The feature we are splitting on is **'Residence'**."
   ]
  },
  {
   "cell_type": "code",
   "execution_count": null,
   "metadata": {},
   "outputs": [],
   "source": [
    "# Calculate Entropy of the Child Nodes\n",
    "entropy_1 = \n",
    "entropy_2 = \n",
    "entropy_3 = \n",
    "print(entropy_1,entropy_2,entropy_3)"
   ]
  },
  {
   "cell_type": "code",
   "execution_count": null,
   "metadata": {},
   "outputs": [],
   "source": [
    "# Which class has the purest split?"
   ]
  },
  {
   "cell_type": "markdown",
   "metadata": {},
   "source": [
    "## Information Gain: Write-Offs vs. Non-Write-Offs\n",
    "Now that you've calculated the entropy per feature. What is the Information Gain when splitting on Balance and Residence?"
   ]
  },
  {
   "cell_type": "code",
   "execution_count": null,
   "metadata": {},
   "outputs": [],
   "source": [
    "# Calculate the IG associated with Balance\n",
    "information_gain_balance = "
   ]
  },
  {
   "cell_type": "code",
   "execution_count": null,
   "metadata": {},
   "outputs": [],
   "source": [
    "# Calculate the IG associated with Residence\n",
    "information_gain_residence = "
   ]
  },
  {
   "cell_type": "code",
   "execution_count": null,
   "metadata": {},
   "outputs": [],
   "source": [
    "# On what feature will the Decision Tree split and why?"
   ]
  }
 ],
 "metadata": {
  "kernelspec": {
   "display_name": "Python 3",
   "language": "python",
   "name": "python3"
  },
  "language_info": {
   "codemirror_mode": {
    "name": "ipython",
    "version": 3
   },
   "file_extension": ".py",
   "mimetype": "text/x-python",
   "name": "python",
   "nbconvert_exporter": "python",
   "pygments_lexer": "ipython3",
   "version": "3.7.3"
  }
 },
 "nbformat": 4,
 "nbformat_minor": 2
}
