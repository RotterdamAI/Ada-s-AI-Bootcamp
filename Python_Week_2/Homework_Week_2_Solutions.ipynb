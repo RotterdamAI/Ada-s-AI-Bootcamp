{
 "cells": [
  {
   "cell_type": "markdown",
   "metadata": {},
   "source": [
    "## Challenges - Week 2\n"
   ]
  },
  {
   "cell_type": "markdown",
   "metadata": {},
   "source": [
    "#### Welcome to Week 2 Challenges! \n",
    "\n",
    "For this weeks challenge we have tailored a list of 20 questions, all based on concepts that you learned so far. Complete this challenge and level-up your python skills.  \n",
    "\n",
    "- There are six sections (Conditions & branching, loops, list comprehension, functions, Numpy, Pandas), with 2-4 questions per section, and a bonus section with 2 lists of questions. \n",
    "- For each section, the tasks get harder as you go along\n",
    "- For each challenge, test your code with the given sample input to get the expected output \n",
    "- Don't forget to read the fun facts in between challenges!"
   ]
  },
  {
   "cell_type": "markdown",
   "metadata": {},
   "source": [
    "#### 1. Conditions & Branching"
   ]
  },
  {
   "cell_type": "code",
   "execution_count": null,
   "metadata": {},
   "outputs": [],
   "source": [
    "#######################################################\n",
    "################### Challenge 1 #######################\n",
    "#######################################################\n",
    "\n",
    "# Write a program which reads a year from the user and checks if it is a leap year or not.\n",
    "\n",
    "year = int(input(\"Insert a year: \"))\n",
    "if year % 4 == 0:\n",
    "    print(\"Leap year\")\n",
    "else:\n",
    "    print(\"Not a leap year\")\n",
    "    \n",
    "# Test input 1: 2013, expected output: Not a leap year\n",
    "# Test input 2: 2044, expected output: Leap year"
   ]
  },
  {
   "cell_type": "code",
   "execution_count": null,
   "metadata": {},
   "outputs": [],
   "source": [
    "#######################################################\n",
    "################### Challenge 2 #######################\n",
    "#######################################################\n",
    "\n",
    "# Write a program which reads three numbers from the user and prints the greatest of these three numbers as output\n",
    "# Bonus points if you could get all three numbers from the user in one go \n",
    "\n",
    "num1, num2, num3 = input(\"Enter 3 numbers: \").split() \n",
    "\n",
    "if (num1 > num2) and (num1 > num3):\n",
    "    print(num1)\n",
    "elif (num2 > num1) and (num2 > num3):\n",
    "    print(num2)\n",
    "else:\n",
    "    print(num3)\n",
    "    \n",
    "# Test input 1: 12, 23, 2, expected output: 23\n",
    "# Test input 2: -1, 0, 1, expected output: 1     \n"
   ]
  },
  {
   "cell_type": "markdown",
   "metadata": {},
   "source": [
    "When working with large amounts of data, you might have to use a lot of **non-primitive** data structures (like lists, set, tuples, dict, etc.). Figuring out what datatype to use for a given data is one of the most common tasks that Data Scientists/Engineers do everyday.\n",
    "\n",
    "Before going further, quickly re-collect the non-primitive data structures that you have learned so far"
   ]
  },
  {
   "cell_type": "code",
   "execution_count": null,
   "metadata": {},
   "outputs": [],
   "source": [
    "#######################################################\n",
    "################### Challenge 3 #######################\n",
    "#######################################################\n",
    "\n",
    "# Write a program to: \n",
    "# (a) store the following table values in a suitable variable \n",
    "#    ------------------------------------- \n",
    "#       Grade             Description                \n",
    "#    -------------------------------------\n",
    "#         E               Excellent     \n",
    "#         V               Very good      \n",
    "#         G               Good          \n",
    "#         A               Average        \n",
    "#         F               Fail           \n",
    "#     ------------------------------------ \n",
    "# (b) accept a grade from the user and print the equivalent description (or custom error message) \n",
    "# Bonus points for case-insensitive match (i.e., 'E' and 'e' = Excellent) \n",
    "\n",
    "grade_dict = {'E':'Excellent','V':'Very good', 'G':'Good', 'A':'Average', 'F': 'Fail'}\n",
    "grade = input(\"Insert grade: \").upper()\n",
    "\n",
    "if grade in grade_dict.keys():\n",
    "    print(grade_dict[grade])\n",
    "else:\n",
    "    print(\"That's not a grade\")\n",
    "\n",
    "# Test input 1: E, expected output: Excellent\n",
    "# Test input 2: O, expected output: That's not a grade         "
   ]
  },
  {
   "cell_type": "markdown",
   "metadata": {},
   "source": [
    "<details>\n",
    "<summary>Fun Fact #1 (Click to Expand)</summary><br/>\n",
    "    <b>Guido Van Rossum:</b> Did you know that the author of Python was a Dutch guy? Yep! <br/> He created Python in 1989 as a hobby project to keep him occupied during the Christmas week.\n",
    "\n",
    "</details>"
   ]
  },
  {
   "cell_type": "markdown",
   "metadata": {},
   "source": [
    "#### 2. Loops"
   ]
  },
  {
   "cell_type": "code",
   "execution_count": null,
   "metadata": {},
   "outputs": [],
   "source": [
    "#######################################################\n",
    "################### Challenge 4 #######################\n",
    "#######################################################\n",
    "\n",
    "# Write a program to print 'I am Groot' 5 times\n",
    "\n",
    "for i in range(5):\n",
    "    print(\"I am Groot\")\n",
    "\n",
    "# Expected output: \n",
    "# I am Groot\n",
    "# I am Groot\n",
    "# I am Groot\n",
    "# I am Groot\n",
    "# I am Groot"
   ]
  },
  {
   "cell_type": "code",
   "execution_count": null,
   "metadata": {},
   "outputs": [],
   "source": [
    "#######################################################\n",
    "################### Challenge 5 #######################\n",
    "#######################################################\n",
    "\n",
    "# Write a program to print a pyramid of strings as given below\n",
    "# p\n",
    "# py\n",
    "# pyt\n",
    "# pyth\n",
    "# pytho\n",
    "# python\n",
    "\n",
    "string = \"python\"\n",
    "for i in range(len(string)):\n",
    "    print(string[0:i+1])"
   ]
  },
  {
   "cell_type": "markdown",
   "metadata": {},
   "source": [
    "<details>\n",
    "<summary>Fun Fact #2 (Click to Expand)</summary><br/>\n",
    "    Ever wondered why Python is named after a type of Snake? <br/>\n",
    "   <br/> Well, actually it's not! It's named after the British comedy series from the 70's called <i>Monty Python's Flying Circus</i>. Guido Van Rossum was so entertained by the comedy show that he decided to name his brain child after it... <br/>\n",
    "    <br/>\n",
    "    Which show would you name your brain child after? \n",
    "\n",
    "</details>"
   ]
  },
  {
   "cell_type": "code",
   "execution_count": null,
   "metadata": {},
   "outputs": [],
   "source": [
    "#######################################################\n",
    "################### Challenge 6 #######################\n",
    "#######################################################\n",
    "\n",
    "# Write a program to count the number of even and odd numbers from the given list\n",
    "\n",
    "numbers = [1,2,3,4,5,6,7,8,9]\n",
    "even_count, odd_count = 0, 0\n",
    "\n",
    "for i in numbers:\n",
    "    if i%2 == 0:\n",
    "        even_count += 1\n",
    "    else:\n",
    "        odd_count += 1\n",
    "print(\"Number of even numbers: \", even_count)\n",
    "print(\"Number of odd numbers: \", odd_count)\n",
    "\n",
    "# Expected output: \n",
    "# Number of even numbers: 4\n",
    "# Number of odd numbers: 5"
   ]
  },
  {
   "cell_type": "markdown",
   "metadata": {},
   "source": [
    "- Using **for loop**, you can not only iterate through lists, but also other data types such as dictionaries and sets\n",
    "- There are multiple ways to iterate through dictionaries <br/>\n",
    "  (a) iterate through all keys<br/>\n",
    "  (b) iterate through all values<br/>\n",
    "  (c) iterate through all (key,value) pairs <br/>\n",
    "- Run the below snippet to see how you can do this"
   ]
  },
  {
   "cell_type": "code",
   "execution_count": null,
   "metadata": {
    "scrolled": true
   },
   "outputs": [],
   "source": [
    "cost = {'apple': 10.0, 'orange':20.0, 'banana':15.0, 'grapes':25.0}\n",
    "\n",
    "print(\"Printing keys...\") #Iterating over dict keys - Method 1\n",
    "for key in cost:\n",
    "    print(key)\n",
    "print(\"----------------\")  \n",
    "\n",
    "print(\"Printing keys again...\") #Iterating over dict keys - Method 2 - dict.keys()    \n",
    "for key in cost.keys():\n",
    "    print(key)\n",
    "print(\"----------------\")    \n",
    "\n",
    "print(\"Printing values...\") #Iterating over dict values - dict.values()       \n",
    "for value in cost.values():\n",
    "    print(value)\n",
    "print(\"----------------\")    \n",
    "\n",
    "print(\"Printing both...\")  #Iterating over keys and values - dict.items()        \n",
    "for key, value in cost.items():\n",
    "    print(key, \"=\", value)"
   ]
  },
  {
   "cell_type": "code",
   "execution_count": null,
   "metadata": {},
   "outputs": [],
   "source": [
    "#######################################################\n",
    "################### Challenge 7 #######################\n",
    "#######################################################\n",
    "\n",
    "# Now, write a program to iterate over cost dictionary to apply a 10% discount on all fruit prices\n",
    "cost = {'apple': 10.0, 'orange':20.0, 'banana':15.0, 'grapes':25.0}\n",
    "\n",
    "#Method 1:\n",
    "for key, value in cost.items():\n",
    "    cost[key] = value*0.9\n",
    "print(cost)\n",
    "\n",
    "#Method 2: Dict comprehension\n",
    "# discounted_cost = {row:val*0.9 for row,val in cost.items()}\n",
    "# print(discounted_cost)\n",
    "\n",
    "# Expected output: \n",
    "# {'apple': 9.0, 'orange': 18.0, 'banana': 13.5, 'grapes': 22.5}"
   ]
  },
  {
   "cell_type": "markdown",
   "metadata": {},
   "source": [
    "### 3. List comprehension"
   ]
  },
  {
   "cell_type": "code",
   "execution_count": null,
   "metadata": {},
   "outputs": [],
   "source": [
    "#######################################################\n",
    "################### Challenge 8 #######################\n",
    "#######################################################\n",
    "\n",
    "# Write a program using list comprehension to double the numbers in the given list\n",
    "numbers = [1,2,3,4,5]\n",
    "print([i*2 for i in numbers])\n",
    "\n",
    "# Expected output: [2,4,6,8,10]"
   ]
  },
  {
   "cell_type": "markdown",
   "metadata": {},
   "source": [
    "<details>\n",
    "<summary>Fun Fact #3 (Click to Expand)</summary><br/>\n",
    "    Did you know that Python is one of the official languages of Google? <br/>\n",
    "    Thanks to it's efficiency and portability, Python has been widely used to build applications like Google search, Spotify, Netflix and even Youtube! <br/>\n",
    "   <br/> So next time you watch a Youtube video or upload a photo on instagram, remember you are running a Python code... <br/>\n",
    "</details>"
   ]
  },
  {
   "cell_type": "code",
   "execution_count": null,
   "metadata": {},
   "outputs": [],
   "source": [
    "#######################################################\n",
    "################### Challenge 9 #######################\n",
    "#######################################################\n",
    "\n",
    "# Write a program using list comprehension to \n",
    "# (a) extract the odd numbers from the given list\n",
    "# (b) double the odd numbers and triple the even numbers in the given list, and store it to a new list\n",
    "# Hint: If you are unsure, solve it using regular for loops first, and then see how you can re-arrange the statements to make list comprehension\n",
    "\n",
    "numbers = [1,2,3,4,5]\n",
    "\n",
    "print('Output of a: ', [x for x in numbers if x%2 == 1])\n",
    "print('Output of b: ', [x*2 if x%2 == 1 else x*3 for x in numbers])\n",
    "\n",
    "# Expected output: \n",
    "# Output of a:  [1,3,5]\n",
    "# Output of b:  [2, 6, 6, 12, 10]"
   ]
  },
  {
   "cell_type": "markdown",
   "metadata": {},
   "source": [
    "- One of the most common applications of list comprehension is to flatten a list of lists to get a simple list\n",
    "- Quickly glance through the concept of  [nested for loops](https://pythonbasics.org/nested-loops/) before going to the next challenge"
   ]
  },
  {
   "cell_type": "code",
   "execution_count": null,
   "metadata": {},
   "outputs": [],
   "source": [
    "#######################################################\n",
    "################### Challenge 10 #######################\n",
    "#######################################################\n",
    "\n",
    "# (a) Convert the given list of lists to a simple list using two for loops \n",
    "# (b) Now do the same using list comprehension\n",
    "numbers = [[1,2,3],[4,5],[6]]\n",
    "\n",
    "flat_list = []\n",
    "for sublist in numbers:\n",
    "    for item in sublist:\n",
    "        flat_list.append(item)\n",
    "\n",
    "print('Flat list using for loop: ', flat_list)\n",
    "print('Flat list using list comprehension: ', [x for sublist in numbers for x in sublist])\n",
    "\n",
    "# Expected output: \n",
    "# Flat list using for loop:  [1, 2, 3, 4, 5, 6]\n",
    "# Flat list using comprehension:  [1, 2, 3, 4, 5, 6]\n",
    "    "
   ]
  },
  {
   "cell_type": "markdown",
   "metadata": {},
   "source": [
    "### 4. Functions"
   ]
  },
  {
   "cell_type": "code",
   "execution_count": null,
   "metadata": {},
   "outputs": [],
   "source": [
    "#######################################################\n",
    "################### Challenge 11 #######################\n",
    "#######################################################\n",
    "\n",
    "# Write a python function to check if a given number is odd or even\n",
    "\n",
    "def check(number):\n",
    "    if number % 2 == 0:\n",
    "        print(number,\" is even\")\n",
    "    else:\n",
    "        print(number,\" is odd\")\n",
    "        \n",
    "number = int(input(\"Insert a number: \"))\n",
    "check(number)\n",
    "\n",
    "# Test input: 2, Expected output: 2 is even\n",
    "# Test input: 3, Expected output: 3 is odd"
   ]
  },
  {
   "cell_type": "code",
   "execution_count": null,
   "metadata": {},
   "outputs": [],
   "source": [
    "#######################################################\n",
    "################### Challenge 12 #######################\n",
    "#######################################################\n",
    "\n",
    "# Write a python function to call the previous function (challenge 11) for all numbers between two given numbers (user input)\n",
    "range_list = list(map(int, input(\"Enter the range: \").split()))\n",
    "\n",
    "if range_list[0] <= range_list[1]:\n",
    "    start, stop = range_list[0], range_list[1]\n",
    "else:\n",
    "    start, stop = range_list[1], range_list[0]\n",
    "\n",
    "for i in range(start+1, stop):\n",
    "    check(i)\n",
    "\n",
    "# Test input: Enter the range: 1 5\n",
    "# Expected output:\n",
    "# 1 is odd\n",
    "# 2 is even\n",
    "# 3 is odd\n",
    "# 4 is even\n",
    "# 5 is odd"
   ]
  },
  {
   "cell_type": "markdown",
   "metadata": {},
   "source": [
    "### 5. Numpy"
   ]
  },
  {
   "cell_type": "code",
   "execution_count": null,
   "metadata": {},
   "outputs": [],
   "source": [
    "#######################################################\n",
    "################### Challenge 13 #######################\n",
    "#######################################################\n",
    "\n",
    "# Import numpy and print the numpy version\n",
    "import numpy as np\n",
    "np.version.version"
   ]
  },
  {
   "cell_type": "code",
   "execution_count": null,
   "metadata": {},
   "outputs": [],
   "source": [
    "#######################################################\n",
    "################### Challenge 14 #######################\n",
    "#######################################################\n",
    "\n",
    "# Write a numpy program to create an array of:\n",
    "# (a) all numbers from 20 to 40\n",
    "# (b) all odd numbers from 25 to 35\n",
    "# (c) reverse the elements of array (b)\n",
    "array = np.arange(20,40)\n",
    "print(array)\n",
    "\n",
    "array = np.arange(25,36,2)\n",
    "print(array)\n",
    "\n",
    "print(array[::-1])\n",
    "\n",
    "# Expected output:\n",
    "# [20 21 22 23 24 25 26 27 28 29 30 31 32 33 34 35 36 37 38 39]\n",
    "# [25 27 29 31 33 35]\n",
    "# [35 33 31 29 27 25]"
   ]
  },
  {
   "cell_type": "markdown",
   "metadata": {},
   "source": [
    "<details>\n",
    "<summary>Fun Fact #4 (Click to Expand)</summary><br/>\n",
    "    Let's talk Python! <br/>\n",
    "    Python is so popular that in 2015, Python overtook French to be the most popular language taught in primary schools. <a href=\"https://www.ocadogroup.com/news-and-media/news-centre/2015/20150901python.aspx\">Statistics</a> showed that 75% of primary school students revealed that they would rather learn how to control a robot than French!  <br/>\n",
    "  \n",
    "</details>"
   ]
  },
  {
   "cell_type": "code",
   "execution_count": null,
   "metadata": {},
   "outputs": [],
   "source": [
    "#######################################################\n",
    "################### Challenge 15 #######################\n",
    "#######################################################\n",
    "\n",
    "# Write a numpy program to \n",
    "# (a) create a 3x3 matrix of random numbers from 10 to 20\n",
    "# (b) print the first row of the matrix\n",
    "# (c) print the second column of the matrix\n",
    "\n",
    "a  = np.linspace(10,20,9,dtype=int).reshape(3,3)\n",
    "print(\"Matrix:\\n\", a)\n",
    "print(\"First row:\", a[0])\n",
    "print(\"Second column\", a[:,1])"
   ]
  },
  {
   "cell_type": "code",
   "execution_count": null,
   "metadata": {},
   "outputs": [],
   "source": [
    "#######################################################\n",
    "################### Challenge 16 #######################\n",
    "#######################################################\n",
    "\n",
    "# Write a numpy program to \n",
    "# (a) create a 3x3 matrix 'm' of random numbers from 10 to 20, and an array 'a' of all numbers from 1 to 3\n",
    "# (b) Add m and a\n",
    "# (c) Multiply m and a\n",
    "# (d) Find the dot product of m and a\n",
    "\n",
    "m  = np.arange(1,10).reshape(3,3)\n",
    "a = np.arange(1,4)\n",
    "print(\"m: \\n\", m, \"\\n a: \\n\", a)\n",
    "\n",
    "print(\"Addition: \\n\", m+a)\n",
    "print(\"Multiplication: \\n\", m*a)\n",
    "print(\"Dot product: \\n\", m@a)"
   ]
  },
  {
   "cell_type": "markdown",
   "metadata": {},
   "source": [
    "### 6. Pandas"
   ]
  },
  {
   "cell_type": "markdown",
   "metadata": {},
   "source": [
    "Using the given data, complete the following challenges with the help of Pandas library"
   ]
  },
  {
   "cell_type": "code",
   "execution_count": null,
   "metadata": {},
   "outputs": [],
   "source": [
    "import pandas as pd\n",
    "people = pd.read_csv('https://rotterdamai001.blob.core.windows.net/python/mlb/core/People.csv')\n",
    "hall_of_fame = pd.read_csv('https://rotterdamai001.blob.core.windows.net/python/mlb/core/HallOfFame.csv')"
   ]
  },
  {
   "cell_type": "code",
   "execution_count": null,
   "metadata": {
    "scrolled": true
   },
   "outputs": [],
   "source": [
    "#######################################################\n",
    "################### Challenge 17 #######################\n",
    "#######################################################\n",
    "\n",
    "# Print the first five rows of the dataframe\n",
    "print(\"People: \\n\",people.head(),\n",
    "      \"\\n\",\"Hall of Fame'rs: \\n:\", hall_of_fame.head())"
   ]
  },
  {
   "cell_type": "code",
   "execution_count": null,
   "metadata": {},
   "outputs": [],
   "source": [
    "#######################################################\n",
    "################### Challenge 18 #######################\n",
    "#######################################################\n",
    "\n",
    "# Save a list of the unique countries and save it to variable birth_country\n",
    "\n",
    "#Method 1:\n",
    "birth_country = set(people['birthCountry'].dropna())\n",
    "print(birth_country)\n",
    "\n",
    "#Method 2:\n",
    "# birth_country = people['birthCountry']\n",
    "# birth_country = birth_country[~birth_country.isnull()]\n",
    "# print(set(birth_country)) \n",
    "\n",
    "# Method 3:\n",
    "# birth_country = people.birthCountry.unique().tolist()\n",
    "# birth_country = [country for country in birth_country if str(country) != 'nan']\n",
    "# birth_country\n",
    "\n",
    "# #Method 4:\n",
    "# birth_country = {x for x in people['birthCountry'] if x == x}\n",
    "# print(set(birth_country))"
   ]
  },
  {
   "cell_type": "code",
   "execution_count": null,
   "metadata": {
    "scrolled": true
   },
   "outputs": [],
   "source": [
    "#######################################################\n",
    "################### Challenge 19 #######################\n",
    "#######################################################\n",
    "\n",
    "# Create a function that for each country lists the youngest players by birthyear, month and day\n",
    "\n",
    "people.columns\n",
    "\n",
    "df = people.loc[:,['playerID','birthCountry','birthYear', 'birthMonth', 'birthDay']].copy()\n",
    "df.fillna(-1, inplace=True)\n",
    "list_youngest_players = []\n",
    "\n",
    "for country in birth_country:\n",
    "    df_temp = df[df.birthCountry == country]\n",
    "    df_temp = df_temp[df_temp.birthYear == df_temp.birthYear.max()]\n",
    "    df_temp = df_temp[df_temp.birthMonth == df_temp.birthMonth.max()]\n",
    "    df_temp = df_temp[df_temp.birthDay == df_temp.birthDay.max()]\n",
    "    list_youngest_players.append(df_temp.values.tolist())\n",
    "\n",
    "from itertools import chain\n",
    "data_youngest_players = np.array(list(chain.from_iterable(list_youngest_players)))\n",
    "df_youngest_players = pd.DataFrame(data_youngest_players,columns=df.columns)\n",
    "df_youngest_players\n",
    "\n",
    "# Hints:\n",
    "# * Use a for loop\n",
    "# * Use conditional arguments for filtering\n",
    "# * Use the variable birth_country, you created above, to loop over the countries\n",
    "# * Break the challenge into individual parts. In this way it is much easier to handle"
   ]
  },
  {
   "cell_type": "code",
   "execution_count": null,
   "metadata": {},
   "outputs": [],
   "source": [
    "#######################################################\n",
    "################### Challenge 20 #######################\n",
    "#######################################################\n",
    "# (a) Derrick comes from Curacao, a small island widely known for the major league baseball players they produce. \n",
    "# Help us identify all the players that were born in Curacao. Save the result in a variable called: curacao_players.\n",
    "\n",
    "curacao_players = people[people.birthCountry=='Curacao']\n",
    "# print(curacao_players.iloc[:5,:])\n",
    "\n",
    "# (b) It would also be interesting to identify the Hall-of-Fame'ers, if there are any, that were born in Curacao.\n",
    "# Hint: Use the curacao_players and hall_of_fame pandas dataframes to complete the challenge of identifying \n",
    "# Curacao born Hall-Of-Fame'ers.\n",
    "curacao_hall_of_fame = curacao_players.merge(hall_of_fame, left_on='playerID', right_on='playerID')\n",
    "curacao_hall_of_fame.loc[:,['nameFirst', 'nameLast','votedBy', 'ballots', 'needed', 'votes','inducted', 'category', 'needed_note']]"
   ]
  },
  {
   "cell_type": "markdown",
   "metadata": {},
   "source": [
    "<details>\n",
    "<summary>Fun Fact #5 (Click to Expand)</summary><br/>\n",
    "    THE ZEN OF PYTHON<br/>\n",
    "    <i> Beautiful is better than ugly.</i><br/>\n",
    "    <i> Explicit is better than implicit.</i> <br/>\n",
    "    <br/> This is how the poem goes... the poem of Python. Yes, there is a Python Poem! <br/>\n",
    "    Open a cell below, run the command: <i>import this</i>, and see it for yourself!  <br/>\n",
    "    <br/> Clearly programmers are not good with rhymes, eh?\n",
    "</details>"
   ]
  },
  {
   "cell_type": "markdown",
   "metadata": {},
   "source": [
    "### Bonus"
   ]
  },
  {
   "cell_type": "code",
   "execution_count": null,
   "metadata": {},
   "outputs": [],
   "source": [
    "###########################\n",
    "### List-game challenge ###\n",
    "###########################\n",
    "\n",
    "student_names = ['James', 'Maria', 'George', 'Anna', 'Michael', 'Jan-Willem', 'Bart', 'Annemiek', 'Eva', 'Sophie']\n",
    "student_grades = [4, 8, 8, 10, 6, 7.5, 8.5, 5, 9.5, 7]\n",
    "\n",
    "# 1. Check the length of the two list. \n",
    "#    Make an if statement to check if the two list's lengths are equal. If their length is equal print 'Equal', \n",
    "#    otherwise print 'Different'.\n",
    "if len(student_names)==len(student_grades):\n",
    "    print(\"Equal\")\n",
    "else:\n",
    "    print(\"Different\")\n",
    "    \n",
    "# 2. Remove the last item of each list and assign the new length of each list in two different variables. \n",
    "#    Print the new length of each list.\n",
    "names_len = len(student_names[:-1])\n",
    "grades_len = len(student_grades[:-1])\n",
    "\n",
    "# 3. Add the name of 'Mark' in the list of student names in the first position \n",
    "student_names.insert(0,'Mark')\n",
    "\n",
    "# 4. Add the student grade 3 as an integer in the list of student grades in the second position\n",
    "student_grades.insert(1, int(3))\n",
    "\n",
    "print(student_names, student_grades)\n",
    "    \n",
    "# 5. Calculate the minimum, maximum and mean values of the grades list. \n",
    "#    Assign each metric to a different variable and print the result in one print statement\n",
    "\n",
    "min_grade = min(student_grades)\n",
    "max_grade = max(student_grades)\n",
    "mean_grade = sum(student_grades)/len(student_grades)\n",
    "\n",
    "print(\"Min: \", min_grade, \", Max: \", max_grade,\", Mean: \", mean_grade)\n",
    "\n",
    "# 6. Print only the grades that are below 5        \n",
    "print([grade for grade in student_grades if grade<5])\n",
    "    \n",
    "# 7. Print only the student names that their name startswith 'A' (tip: there is a startswith function)\n",
    "print([name for name in student_names if name.startswith('A')])\n",
    "        \n",
    "# 8. Print only the student names that start with 'A' and ends with 'A' (tip: there is a endswith function) \n",
    "print([name for name in student_names if name.startswith('A') and name.endswith('A')])"
   ]
  },
  {
   "cell_type": "code",
   "execution_count": 1,
   "metadata": {},
   "outputs": [
    {
     "ename": "NameError",
     "evalue": "name 'np' is not defined",
     "output_type": "error",
     "traceback": [
      "\u001b[1;31m---------------------------------------------------------------------------\u001b[0m",
      "\u001b[1;31mNameError\u001b[0m                                 Traceback (most recent call last)",
      "\u001b[1;32m<ipython-input-1-3d3e41aefbfe>\u001b[0m in \u001b[0;36m<module>\u001b[1;34m\u001b[0m\n\u001b[0;32m      4\u001b[0m \u001b[1;33m\u001b[0m\u001b[0m\n\u001b[0;32m      5\u001b[0m \u001b[1;31m# 1. Convert grades list into numpy array and assign it in a variable (insert numpy as np if needed)\u001b[0m\u001b[1;33m\u001b[0m\u001b[1;33m\u001b[0m\u001b[0m\n\u001b[1;32m----> 6\u001b[1;33m \u001b[0mgrades_array\u001b[0m \u001b[1;33m=\u001b[0m \u001b[0mnp\u001b[0m\u001b[1;33m.\u001b[0m\u001b[0marray\u001b[0m\u001b[1;33m(\u001b[0m\u001b[0mstudent_grades\u001b[0m\u001b[1;33m)\u001b[0m\u001b[1;33m\u001b[0m\u001b[0m\n\u001b[0m\u001b[0;32m      7\u001b[0m \u001b[0mprint\u001b[0m\u001b[1;33m(\u001b[0m\u001b[0mgrades_array\u001b[0m\u001b[1;33m)\u001b[0m\u001b[1;33m\u001b[0m\u001b[0m\n\u001b[0;32m      8\u001b[0m \u001b[1;33m\u001b[0m\u001b[0m\n",
      "\u001b[1;31mNameError\u001b[0m: name 'np' is not defined"
     ]
    }
   ],
   "source": [
    "############################\n",
    "### Numpy-game challenge ###\n",
    "############################\n",
    "\n",
    "# 1. Convert grades list into numpy array and assign it in a variable (insert numpy as np if needed)\n",
    "grades_array = np.array(student_grades)\n",
    "print(grades_array)\n",
    "\n",
    "# 2. Calculate min, max, mean from the array. Assign each metric to a different variable and print the result in one print statement\n",
    "\n",
    "min_grade = min(student_grades)\n",
    "max_grade = max(student_grades)\n",
    "mean_grade = np.mean(student_grades)\n",
    "\n",
    "print(\"Min: \", min_grade, \", Max: \", max_grade,\", Mean: \", mean_grade)\n",
    "\n",
    "# 3. Divide the array with 10. Assign the new array in a new variable.\n",
    "grades_changed = grades_array / 10\n",
    "print(grades_changed)\n",
    "\n",
    "# 4. Change the elements of the latest array based on statement: If element is smaller than 0.5 give the value 0, otherwise give the value 1\n",
    "#    With 0 are the students who failed and 1 the students who passed.\n",
    "grades_changed = [0 if i<0.5 else 1 for i in grades_changed ]\n",
    "print(grades_changed)\n",
    "\n",
    "# 5. Loop over the latest created array. Make an if statement: If element in the array is 0 print \"FAIL\", otherwise print \"PASS\"\n",
    "for grade in grades_changed:\n",
    "    print(\"FAIL\") if grade == 0 else print(\"PASS\")\n",
    "    \n",
    "# 6. Make a function that takes a given array as input and does the following calculations:\n",
    "#             a. Multiplies array with 10\n",
    "#             b. Finds and prints the length of the array\n",
    "#             c. Finds and prints the minimum value of the array \n",
    "#             d. Finds and prints the maximum value of the array\n",
    "#             e. Finds and prints how many elements of the array are in between the min and the max value \n",
    "#             f. Make a random array by yourself and use it as input to test the function you have made\n",
    "\n",
    "def array_manipulation(array):\n",
    "    print(\"Array: \", array)\n",
    "    array = array*10\n",
    "    print(\"Array*10: \", array)\n",
    "    print(\"Length of Array: \", len(array))\n",
    "    print(\"Minimum value: \", min(array))\n",
    "    print(\"Maximum value: \", max(array))\n",
    "    print(\"Elements between min and max: \", len([i for i in array if i>min(array) and i<max(array)]))\n",
    "\n",
    "array = np.arange(1,9)\n",
    "array_manipulation(array)"
   ]
  },
  {
   "cell_type": "markdown",
   "metadata": {},
   "source": [
    "___"
   ]
  },
  {
   "cell_type": "markdown",
   "metadata": {},
   "source": [
    "## Grab a beer! You did it!! \n",
    "#### You are getting closer to becoming a data scientist! \n",
    "\n",
    "![alt text](https://media.giphy.com/media/Zy7s96dP38MlQe3OjG/giphy.gif)"
   ]
  },
  {
   "cell_type": "markdown",
   "metadata": {},
   "source": [
    "---"
   ]
  }
 ],
 "metadata": {
  "kernelspec": {
   "display_name": "Python 3",
   "language": "python",
   "name": "python3"
  },
  "language_info": {
   "codemirror_mode": {
    "name": "ipython",
    "version": 3
   },
   "file_extension": ".py",
   "mimetype": "text/x-python",
   "name": "python",
   "nbconvert_exporter": "python",
   "pygments_lexer": "ipython3",
   "version": "3.6.6"
  }
 },
 "nbformat": 4,
 "nbformat_minor": 2
}
