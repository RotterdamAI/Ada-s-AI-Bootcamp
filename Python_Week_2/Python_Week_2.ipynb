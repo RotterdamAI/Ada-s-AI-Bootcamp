{
 "cells": [
  {
   "cell_type": "markdown",
   "metadata": {
    "colab_type": "text",
    "id": "0xys3CQ_JkK4"
   },
   "source": [
    "# Week 2\n",
    "\n",
    "**Table of Contents**\n",
    "1. [Quick Recap from Python_Week_1](#quick-recap-from-python-week1)\n",
    "2. [List | Sets | Dictionaries](#list-tuples-sets-dictionaries-files)\n",
    "3. [Conditionals and branching](#conditionals-and-branching)\n",
    "4. [Loops: for loops](#loops)\n",
    "5. [Functions](#functions)\n",
    "7. [Numpy](#numpy)\n",
    "8. [Pandas](#pandas)"
   ]
  },
  {
   "cell_type": "markdown",
   "metadata": {
    "colab_type": "text",
    "id": "Rk-0d5MN-sSM"
   },
   "source": [
    "<a id='Quick Recap from Python_Week_1'></a>\n",
    "## Quick Recap from Python_Week_1"
   ]
  },
  {
   "cell_type": "markdown",
   "metadata": {
    "colab_type": "text",
    "id": "h4SLva-9-8RA"
   },
   "source": [
    "* **Datastructures (or datatypes) and their methods** : \n",
    "\n",
    "\n",
    ">> * primitive data structures (contain pure, simple values of data): *numbers*( *integer*, *float*, *complex*), *boolean*, *string*\n",
    "\n",
    ">> * non-primitive data structures: *list, array, tuple, set, dictionary, file*\n",
    "\n",
    "**Note**: you do not have to explicitly state the type of the variable or your data (because Python is a dynamically typed language). Dynamically typed languages are the languages where the type of data an object can store is mutable.\n",
    "\n",
    "\n",
    "*  **Casting**\n",
    "*   **Operations**\n",
    "\n",
    "\n",
    "\n"
   ]
  },
  {
   "cell_type": "markdown",
   "metadata": {
    "colab_type": "text",
    "id": "vKY9lgCPEFfT"
   },
   "source": [
    "![alt text](http://res.cloudinary.com/dyd911kmh/image/upload/c_scale,f_auto,q_auto:best,w_700/v1512740202/Template_2_oxrskq.png)"
   ]
  },
  {
   "cell_type": "markdown",
   "metadata": {
    "colab_type": "text",
    "id": "VLGQOXoJJkK5"
   },
   "source": [
    "<a id='Side-note-to-all-Data-Scientists-to-be-present-at-Lovelacecamp.ai'></a>\n",
    "## Side note to all Data-Scientists-to-be & Machine Learning Engineers-to-be present-at-Lovelacecamp.ai"
   ]
  },
  {
   "cell_type": "markdown",
   "metadata": {
    "colab_type": "text",
    "id": "BaN5AEDn4SfW"
   },
   "source": [
    "![alt text](https://cdn-images-1.medium.com/max/800/1*QpiLcu9nEEB7kjOpJDMqpw.png)\n",
    "\n",
    "*What developers spend their time on (chart based on \"[When Understanding means Rewriting](https://blog.codinghorror.com/when-understanding-means-rewriting/)”)*"
   ]
  },
  {
   "cell_type": "markdown",
   "metadata": {
    "colab_type": "text",
    "id": "WH6G5oX448dj"
   },
   "source": [
    "Watch this video on: [HOW TO WRITE USER_FRIENDLY CODE](https://www.youtube.com/watch?v=Sm0wwmEwqpI)"
   ]
  },
  {
   "cell_type": "markdown",
   "metadata": {
    "colab_type": "text",
    "id": "ZxmWSXBwmcP6"
   },
   "source": [
    "**!!! Note**: the only way to get better at writing code is to write code. Lots of it. Good, bad, and everything in between!"
   ]
  },
  {
   "cell_type": "markdown",
   "metadata": {
    "colab_type": "text",
    "id": "GqJWFdiB6hPk"
   },
   "source": [
    "#### Tuples"
   ]
  },
  {
   "cell_type": "markdown",
   "metadata": {
    "colab_type": "text",
    "id": "Gdx7mUyD6hPj"
   },
   "source": [
    "**Tuple** () is a list that is **immutable**. It is used for storing a snapshot of related items when we don’t plan on modifying, adding, or removing data. Tuples can be used in other types of containers like sets and dictionaries\n",
    "Remember that because Tuples are immutable:\n",
    "1. we can’t add or remove from tuples \n",
    "2. we can't sort tuples"
   ]
  },
  {
   "cell_type": "markdown",
   "metadata": {
    "colab_type": "text",
    "id": "ogbGTob8Y7OP"
   },
   "source": [
    "*Tuples are useful for representing what other languages often call **records** — some related information that belongs together, like your student record.*"
   ]
  },
  {
   "cell_type": "code",
   "execution_count": null,
   "metadata": {
    "colab": {
     "base_uri": "https://localhost:8080/",
     "height": 52
    },
    "colab_type": "code",
    "executionInfo": {
     "elapsed": 493,
     "status": "ok",
     "timestamp": 1557851299030,
     "user": {
      "displayName": "Rotterdam AI",
      "photoUrl": "https://lh4.googleusercontent.com/-J7qLLdBb67w/AAAAAAAAAAI/AAAAAAAAAB0/Csm1EYFSJKA/s64/photo.jpg",
      "userId": "10404074903264061006"
     },
     "user_tz": -120
    },
    "id": "kSw6zbOH6hPe",
    "outputId": "edbc4827-6332-4cd6-9f62-412342a75dff"
   },
   "outputs": [],
   "source": [
    "# Create a new tuple\n",
    "my_tuple = ()\n",
    "\n",
    "my_other_tuple = tuple()\n",
    "\n",
    "student_tuple = (\"Victoria\", 24, \"Computer Science major\", 4.5)\n",
    "\n",
    "# Accessing the tuple by index\n",
    "print(student_tuple[2])\n",
    "\n",
    "# Reassigning tuples will result in an error BECAUSE Tuples are IMMUTABLE!\n",
    "# student_tuple[2] = \"Maths major\"\n",
    "# print(student_tuple)\n",
    "\n",
    "# Tuple Unpacking\n",
    "student_tuple = (\"Victoria\", 24, \"Computer Science major\", 4.5)\n",
    "(name, age, dept, grade) = student_tuple\n",
    "print(name, age, dept, grade)\n"
   ]
  },
  {
   "cell_type": "markdown",
   "metadata": {
    "colab_type": "text",
    "id": "eytdbsqR6gYk"
   },
   "source": [
    "#### Sets"
   ]
  },
  {
   "cell_type": "markdown",
   "metadata": {
    "colab_type": "text",
    "id": "N9YEmM1H6gYj"
   },
   "source": [
    "*  { }\n",
    "*   One of the most important Python Data Structures. \n",
    "*   Sets are a datatype that allows you to store other immutable types in an unordered way.\n",
    "*   Sets ensure that there are no duplicates and all items are unique.\n",
    "*   A Python set is a slightly different concept from a list or a tuple. A set, in Python, is just like the mathematical set. \n"
   ]
  },
  {
   "cell_type": "code",
   "execution_count": null,
   "metadata": {
    "colab": {
     "base_uri": "https://localhost:8080/",
     "height": 88
    },
    "colab_type": "code",
    "executionInfo": {
     "elapsed": 971,
     "status": "ok",
     "timestamp": 1558367282072,
     "user": {
      "displayName": "Rotterdam AI",
      "photoUrl": "https://lh4.googleusercontent.com/-J7qLLdBb67w/AAAAAAAAAAI/AAAAAAAAAB0/Csm1EYFSJKA/s64/photo.jpg",
      "userId": "10404074903264061006"
     },
     "user_tz": -120
    },
    "id": "tpciYvOX6gYg",
    "outputId": "656b800f-ad7c-4e3c-bfc8-1c3cef33feca",
    "scrolled": true
   },
   "outputs": [],
   "source": [
    "# Create a new set\n",
    "farming_set = {\"tractor\", \"plants\", \"water\", \"sunlight\", \"plants\", \"water\", \"cutlass\"}\n",
    "print(farming_set) #notice that all duplicates are gone\n",
    "\n",
    "# Also notice that sets don't have an order\n",
    "\n",
    "# add to a set\n",
    "farming_set.add(\"harvesters\")\n",
    "print(farming_set)\n",
    "\n",
    "# remove from a set\n",
    "farming_set.discard(\"cutlass\")\n",
    "print(farming_set)\n",
    "\n",
    "# update a set with another set\n",
    "other_farming_set = {\"sprayer\", \"mower\"}\n",
    "farming_set.update(other_farming_set) # initial_set.update(the_set_you_want_to_update_with)\n",
    "print(farming_set)"
   ]
  },
  {
   "cell_type": "code",
   "execution_count": null,
   "metadata": {
    "colab": {
     "base_uri": "https://localhost:8080/",
     "height": 35
    },
    "colab_type": "code",
    "executionInfo": {
     "elapsed": 523,
     "status": "ok",
     "timestamp": 1557851990372,
     "user": {
      "displayName": "Rotterdam AI",
      "photoUrl": "https://lh4.googleusercontent.com/-J7qLLdBb67w/AAAAAAAAAAI/AAAAAAAAAB0/Csm1EYFSJKA/s64/photo.jpg",
      "userId": "10404074903264061006"
     },
     "user_tz": -120
    },
    "id": "ASIL1PgZ033K",
    "outputId": "8d2d979f-47e9-4bf3-e344-8b58761de144"
   },
   "outputs": [],
   "source": [
    "my_third_set = set('The Lovelace bootcamp') # pass a string as an argument to the set > the string is singularized into its characters\n",
    "my_third_set"
   ]
  },
  {
   "cell_type": "code",
   "execution_count": null,
   "metadata": {
    "colab": {
     "base_uri": "https://localhost:8080/",
     "height": 35
    },
    "colab_type": "code",
    "executionInfo": {
     "elapsed": 520,
     "status": "ok",
     "timestamp": 1557852139110,
     "user": {
      "displayName": "Rotterdam AI",
      "photoUrl": "https://lh4.googleusercontent.com/-J7qLLdBb67w/AAAAAAAAAAI/AAAAAAAAAB0/Csm1EYFSJKA/s64/photo.jpg",
      "userId": "10404074903264061006"
     },
     "user_tz": -120
    },
    "id": "BA_BVNpOtGio",
    "outputId": "1d7292b6-9028-49e7-c306-be8d9ee5fa8a"
   },
   "outputs": [],
   "source": [
    "# What is the output of the print() function?\n",
    "\n",
    "library_set = {\"copybook\", \"magazines\", \"book\", \"pens\", \"flipchart\", \"pencils\", \"magazines\"}\n",
    "library_set.add(\"magazines\")\n",
    "print(library_set)"
   ]
  },
  {
   "cell_type": "code",
   "execution_count": null,
   "metadata": {
    "colab": {
     "base_uri": "https://localhost:8080/",
     "height": 70
    },
    "colab_type": "code",
    "executionInfo": {
     "elapsed": 544,
     "status": "ok",
     "timestamp": 1557852294057,
     "user": {
      "displayName": "Rotterdam AI",
      "photoUrl": "https://lh4.googleusercontent.com/-J7qLLdBb67w/AAAAAAAAAAI/AAAAAAAAAB0/Csm1EYFSJKA/s64/photo.jpg",
      "userId": "10404074903264061006"
     },
     "user_tz": -120
    },
    "id": "SFZwCGGe9G9j",
    "outputId": "51f28e24-6810-4a23-a1f4-c8c7bd12e331"
   },
   "outputs": [],
   "source": [
    "# What is the output of the last print() function?\n",
    "\n",
    "A = {1, 2, 3} # first set\n",
    "B = {3, 2, 3, 1} # second set\n",
    "\n",
    "print(A)\n",
    "print(B)\n",
    "print(A == B)"
   ]
  },
  {
   "cell_type": "markdown",
   "metadata": {
    "colab_type": "text",
    "id": "b0_53T4f6gYf"
   },
   "source": [
    "**Common Set Errors**"
   ]
  },
  {
   "cell_type": "code",
   "execution_count": null,
   "metadata": {
    "colab": {
     "base_uri": "https://localhost:8080/",
     "height": 106
    },
    "colab_type": "code",
    "executionInfo": {
     "elapsed": 503,
     "status": "ok",
     "timestamp": 1557852582898,
     "user": {
      "displayName": "Rotterdam AI",
      "photoUrl": "https://lh4.googleusercontent.com/-J7qLLdBb67w/AAAAAAAAAAI/AAAAAAAAAB0/Csm1EYFSJKA/s64/photo.jpg",
      "userId": "10404074903264061006"
     },
     "user_tz": -120
    },
    "id": "tyJm5jWx6gYS",
    "outputId": "db92faaf-b506-4058-ed8d-0891e9acf72f",
    "scrolled": true
   },
   "outputs": [],
   "source": [
    "# Trying to access set items by index will result in an error\n",
    "farming_set = {\"tractor\", \"plants\", \"water\", \"sunlight\", \"plants\", \"water\", \"cutlass\"}\n",
    "\n",
    "# print(farming_set[2])\n",
    "\n",
    "# !!! You cannot access items in a set by referring to an index, since sets are unordered the items has no index.\n",
    "# usually you need to loop through the set items (use an iterator and walk through all items in the set): for loop or while loop\n",
    "\n",
    "for iterator in farming_set:\n",
    "    print(iterator)"
   ]
  },
  {
   "cell_type": "code",
   "execution_count": null,
   "metadata": {
    "colab": {
     "base_uri": "https://localhost:8080/",
     "height": 70
    },
    "colab_type": "code",
    "executionInfo": {
     "elapsed": 605,
     "status": "ok",
     "timestamp": 1557852652720,
     "user": {
      "displayName": "Rotterdam AI",
      "photoUrl": "https://lh4.googleusercontent.com/-J7qLLdBb67w/AAAAAAAAAAI/AAAAAAAAAB0/Csm1EYFSJKA/s64/photo.jpg",
      "userId": "10404074903264061006"
     },
     "user_tz": -120
    },
    "id": "crOkIDqp6gYH",
    "outputId": "08a8038f-094f-427a-9664-42fd59f3fb4d"
   },
   "outputs": [],
   "source": [
    "# updating a set with a string will give you results you might not be expecting.\n",
    "print(farming_set)\n",
    "farming_set.update(\"farm robots\")\n",
    "print(farming_set)\n",
    "{'one_string still'}"
   ]
  },
  {
   "cell_type": "markdown",
   "metadata": {
    "colab_type": "text",
    "id": "Tmbo4ity6gBl"
   },
   "source": [
    "#### Dictionaries"
   ]
  },
  {
   "cell_type": "markdown",
   "metadata": {
    "colab_type": "text",
    "id": "XtHKLIoO6gBj"
   },
   "source": [
    "Dictionary is used for storing data in key - value pairs. Keys used must be immutable data types.\n",
    "*   !!!! Lists are ordered sets of objects, whereas dictionaries are unordered sets.\n",
    "*   A dictionary is an associative array (also known as hashes).\n",
    "*   Any key of the dictionary is associated (or mapped) to a value.\n",
    "*   The values of a dictionary can be any Python data type. \n",
    "\n",
    "In fact, dictionaries are unordered key-value-pairs. "
   ]
  },
  {
   "cell_type": "code",
   "execution_count": null,
   "metadata": {
    "colab": {
     "base_uri": "https://localhost:8080/",
     "height": 381
    },
    "colab_type": "code",
    "executionInfo": {
     "elapsed": 525,
     "status": "error",
     "timestamp": 1557853192530,
     "user": {
      "displayName": "Rotterdam AI",
      "photoUrl": "https://lh4.googleusercontent.com/-J7qLLdBb67w/AAAAAAAAAAI/AAAAAAAAAB0/Csm1EYFSJKA/s64/photo.jpg",
      "userId": "10404074903264061006"
     },
     "user_tz": -120
    },
    "id": "PamTE7-Y6gBd",
    "outputId": "64797d6e-c78c-4504-f0fc-ea3707fb1acd"
   },
   "outputs": [],
   "source": [
    "# Create a new empty dictionary\n",
    "my_dict = {}\n",
    "my_other_dict = dict()\n",
    "\n",
    "\n",
    "my_fitness_dict = {1: \"football\", 2: \"cricket\", 3: \"table tennis\", 4: \"volleyball\"}\n",
    "print(my_fitness_dict)\n",
    "\n",
    "# search for a key in the dictionary\n",
    "print(1 in my_fitness_dict)\n",
    "\n",
    "# get the items in a dictionary\n",
    "print(my_fitness_dict.items())\n",
    "\n",
    "# get the keys in a dictionary\n",
    "print(my_fitness_dict.keys())\n",
    "\n",
    "# get the values in a dictionary\n",
    "print(my_fitness_dict.values())\n",
    "\n",
    "# get the value of a specific key in the dictionary\n",
    "print(my_fitness_dict.get(3))\n",
    "\n",
    "# get the length of a dictionary\n",
    "print(len(my_fitness_dict))\n",
    "\n",
    "# add to a dictionary using the square notation\n",
    "my_fitness_dict[5] = \"hockey\"\n",
    "print(my_fitness_dict)\n",
    "\n",
    "# updating a dictionary with another dictionary\n",
    "new_fitness_dict = {1: \"cricket\", 'hi': \"baseball\"}\n",
    "my_fitness_dict.update(new_fitness_dict)\n",
    "print(my_fitness_dict)\n",
    "\n"
   ]
  },
  {
   "cell_type": "markdown",
   "metadata": {
    "colab_type": "text",
    "id": "a4FS1SYu6gBb"
   },
   "source": [
    "**Common Dictionary Errors**"
   ]
  },
  {
   "cell_type": "code",
   "execution_count": null,
   "metadata": {
    "colab": {
     "base_uri": "https://localhost:8080/",
     "height": 35
    },
    "colab_type": "code",
    "executionInfo": {
     "elapsed": 561,
     "status": "ok",
     "timestamp": 1557853607974,
     "user": {
      "displayName": "Rotterdam AI",
      "photoUrl": "https://lh4.googleusercontent.com/-J7qLLdBb67w/AAAAAAAAAAI/AAAAAAAAAB0/Csm1EYFSJKA/s64/photo.jpg",
      "userId": "10404074903264061006"
     },
     "user_tz": -120
    },
    "id": "cdnRt04uDiwR",
    "outputId": "33535316-8d3e-4ec5-9109-937cdfe9f2a7",
    "scrolled": true
   },
   "outputs": [],
   "source": [
    "# trying to access an item by index\n",
    "students = {\"Jane\": \"Biology\", \"Ada\": \"Biology\", \"William\":\"Political Science\"}\n",
    "#print(students[3])\n",
    "\n",
    "print(students) # access by key\n",
    "#print(students[\"Biology\"]) # access by the value of a key will never work!!!!"
   ]
  },
  {
   "cell_type": "code",
   "execution_count": null,
   "metadata": {
    "colab": {
     "base_uri": "https://localhost:8080/",
     "height": 35
    },
    "colab_type": "code",
    "executionInfo": {
     "elapsed": 498,
     "status": "ok",
     "timestamp": 1557853734525,
     "user": {
      "displayName": "Rotterdam AI",
      "photoUrl": "https://lh4.googleusercontent.com/-J7qLLdBb67w/AAAAAAAAAAI/AAAAAAAAAB0/Csm1EYFSJKA/s64/photo.jpg",
      "userId": "10404074903264061006"
     },
     "user_tz": -120
    },
    "id": "7FEc9EdU6gBK",
    "outputId": "c65e3060-1ba6-46c3-f08a-0d82c71095c5"
   },
   "outputs": [],
   "source": [
    "# Using a mutable data type as a key\n",
    "new_students = {\"Emma\": \"Chemistry\", ('1','2'): [\"Ava\", \"Logan\"]}\n",
    "print(new_students[('1','2')])"
   ]
  },
  {
   "cell_type": "markdown",
   "metadata": {
    "colab_type": "text",
    "id": "YGX2eJ4K4bfo"
   },
   "source": [
    "# Conditions and Branching\n",
    "\n",
    "\n"
   ]
  },
  {
   "cell_type": "markdown",
   "metadata": {
    "colab_type": "text",
    "id": "ms4mUEVn4d3Y"
   },
   "source": [
    "# Conditional statements\n",
    "In the real world, we commonly must evaluate information around us and then choose one course of action or another based on what we observe:\n",
    "```\n",
    "\"If the weather is nice, then I’ll go out for a beer with my friends. (It’s implied that if the weather isn’t nice, then I won’t go out for a beer with my friends.)\"\n",
    "```\n",
    "\n"
   ]
  },
  {
   "cell_type": "code",
   "execution_count": null,
   "metadata": {
    "colab": {},
    "colab_type": "code",
    "id": "vxsXJ9nU4gKL"
   },
   "outputs": [],
   "source": [
    "if <expression>:\n",
    "    <statement>"
   ]
  },
  {
   "cell_type": "code",
   "execution_count": null,
   "metadata": {
    "colab": {},
    "colab_type": "code",
    "id": "A-cXiK284h7n"
   },
   "outputs": [],
   "source": [
    "# Question 1: \n",
    "  - what is <expr> in our statement ?\n",
    "  - what is <statement> in our statement ?"
   ]
  },
  {
   "cell_type": "markdown",
   "metadata": {
    "colab_type": "text",
    "id": "UiK5JLvo4kC8"
   },
   "source": [
    "**In a Python program, the *if statement *is how you perform this sort of decision-making. It allows for conditional execution of a statement or group of statements based on the value of an expression.**"
   ]
  },
  {
   "cell_type": "code",
   "execution_count": null,
   "metadata": {
    "colab": {},
    "colab_type": "code",
    "id": "V47VCX_24ncv"
   },
   "outputs": [],
   "source": [
    "a = 3\n",
    "b = 5\n",
    "if a > b:\n",
    "    print(\"a is bigger than b\")"
   ]
  },
  {
   "cell_type": "markdown",
   "metadata": {
    "colab_type": "text",
    "id": "WyGBYJaUomGq"
   },
   "source": [
    "**if-else branch**\n",
    "\n",
    "![alt text](http://www.zentut.com/wp-content/uploads/2007/12/c-if-else-statement.png)\n",
    "\n",
    "\n",
    "\n",
    "\n",
    "\n",
    "\n",
    "**If-else multiple branches**\n",
    "\n",
    "![alt text](https://media.geeksforgeeks.org/wp-content/uploads/decision-making-c-4.png)"
   ]
  },
  {
   "cell_type": "code",
   "execution_count": null,
   "metadata": {
    "colab": {
     "base_uri": "https://localhost:8080/",
     "height": 35
    },
    "colab_type": "code",
    "executionInfo": {
     "elapsed": 811,
     "status": "ok",
     "timestamp": 1557856424142,
     "user": {
      "displayName": "Rotterdam AI",
      "photoUrl": "https://lh4.googleusercontent.com/-J7qLLdBb67w/AAAAAAAAAAI/AAAAAAAAAB0/Csm1EYFSJKA/s64/photo.jpg",
      "userId": "10404074903264061006"
     },
     "user_tz": -120
    },
    "id": "WCzUOGm64qDH",
    "outputId": "a65fc5dc-7317-4654-c45f-94d72168ab9c"
   },
   "outputs": [],
   "source": [
    "# Ana is 31 years old, Kate is 23 years old and David is 24 years old.\n",
    "# Write a program which checks if the Ana is the oldest or not the oldest of the group.\n",
    "# Print the corresponding message.\n",
    "\n",
    "ana_age = 15\n",
    "kate_age = 23\n",
    "david_age = 24\n",
    "\n",
    "# if (true) and (true):\n",
    "if (ana_age > david_age) and (ana_age > kate_age):\n",
    "    print(\"Ana is the oldest.\")\n",
    "else:\n",
    "    print(\"Ana is not the oldest.\")"
   ]
  },
  {
   "cell_type": "code",
   "execution_count": null,
   "metadata": {
    "colab": {
     "base_uri": "https://localhost:8080/",
     "height": 35
    },
    "colab_type": "code",
    "executionInfo": {
     "elapsed": 740,
     "status": "ok",
     "timestamp": 1558367435172,
     "user": {
      "displayName": "Rotterdam AI",
      "photoUrl": "https://lh4.googleusercontent.com/-J7qLLdBb67w/AAAAAAAAAAI/AAAAAAAAAB0/Csm1EYFSJKA/s64/photo.jpg",
      "userId": "10404074903264061006"
     },
     "user_tz": -120
    },
    "id": "h3LXizgD4snT",
    "outputId": "f6c94d28-b847-455d-d287-f0b91290bd92"
   },
   "outputs": [],
   "source": [
    "#############################################\n",
    "################ Example 1 ################\n",
    "#############################################\n",
    "\n",
    "# Write a similar program when you compare 2 variables: x and y. Variable x has value 100.578 and variable y has the value 8000.25.\n",
    "# Print the corresponding message(if x is bigger than y or if x is smaller than y).\n",
    "\n",
    "x = 100.578\n",
    "y = 8000.25\n",
    "\n",
    "if x > y:\n",
    "    print(\"x is bigger than y\")\n",
    "elif x < y:\n",
    "    print(\"x is smaller than y\")"
   ]
  },
  {
   "cell_type": "markdown",
   "metadata": {
    "colab_type": "text",
    "id": "mOcOOO7B4zo8"
   },
   "source": [
    "***Self-lecture (optional):*** [What is a prime number ?](https://whatis.techtarget.com/definition/prime-number)"
   ]
  },
  {
   "cell_type": "code",
   "execution_count": null,
   "metadata": {
    "colab": {
     "base_uri": "https://localhost:8080/",
     "height": 35
    },
    "colab_type": "code",
    "executionInfo": {
     "elapsed": 3257,
     "status": "ok",
     "timestamp": 1558367791602,
     "user": {
      "displayName": "Rotterdam AI",
      "photoUrl": "https://lh4.googleusercontent.com/-J7qLLdBb67w/AAAAAAAAAAI/AAAAAAAAAB0/Csm1EYFSJKA/s64/photo.jpg",
      "userId": "10404074903264061006"
     },
     "user_tz": -120
    },
    "id": "PCkpJSjM41xz",
    "outputId": "e6b8fe58-a1ca-42e5-e98a-e968bac447e5"
   },
   "outputs": [],
   "source": [
    "#############################################\n",
    "################ Example 2 ################\n",
    "#############################################\n",
    "\n",
    "# Write a program which reads a number from the user's input, checks if the number is equal to 1000 and prints out the appropriate message in each condition branch.\n",
    "\n",
    "number = int(input(\"Insert a number: \"))\n",
    "\n",
    "if number == 1000:\n",
    "    print(\"The number is equal to 1000\")\n",
    "# elif number < 1000:\n",
    "#    print(\"The number is lower than 1000\")\n",
    "# else:\n",
    "#    print(\"The number is higher than 1000\")"
   ]
  },
  {
   "cell_type": "code",
   "execution_count": null,
   "metadata": {
    "colab": {
     "base_uri": "https://localhost:8080/",
     "height": 52
    },
    "colab_type": "code",
    "executionInfo": {
     "elapsed": 5276,
     "status": "ok",
     "timestamp": 1558368949953,
     "user": {
      "displayName": "Rotterdam AI",
      "photoUrl": "https://lh4.googleusercontent.com/-J7qLLdBb67w/AAAAAAAAAAI/AAAAAAAAAB0/Csm1EYFSJKA/s64/photo.jpg",
      "userId": "10404074903264061006"
     },
     "user_tz": -120
    },
    "id": "v_DjJ3MO44YT",
    "outputId": "e3289a97-1df2-48a1-d783-4f4d20fabdb8"
   },
   "outputs": [],
   "source": [
    "#############################################\n",
    "################ Example 3 ################\n",
    "#############################################\n",
    "\n",
    "# Write a program which reads a number from the user's input, checks if the number is an even(divisible by 2) or an odd number and prints out the appropriate message in each case.\n",
    "\n",
    "number = int(input(\"Insert a number: \"))\n",
    "\n",
    "if (number % 2 == 0):\n",
    "    print(\"The number is even\")\n",
    "else:\n",
    "    print(\"The number is odd\")"
   ]
  },
  {
   "cell_type": "markdown",
   "metadata": {
    "colab_type": "text",
    "id": "g03OZQ8cvSCX"
   },
   "source": [
    "# Loops\n",
    "\n",
    "> *  for loops\n",
    "> * while loops"
   ]
  },
  {
   "cell_type": "markdown",
   "metadata": {
    "colab_type": "text",
    "id": "nBI2KTMuC7x5"
   },
   "source": [
    "## for loop"
   ]
  },
  {
   "cell_type": "code",
   "execution_count": null,
   "metadata": {
    "colab": {
     "base_uri": "https://localhost:8080/",
     "height": 106
    },
    "colab_type": "code",
    "executionInfo": {
     "elapsed": 526,
     "status": "ok",
     "timestamp": 1557856519746,
     "user": {
      "displayName": "Rotterdam AI",
      "photoUrl": "https://lh4.googleusercontent.com/-J7qLLdBb67w/AAAAAAAAAAI/AAAAAAAAAB0/Csm1EYFSJKA/s64/photo.jpg",
      "userId": "10404074903264061006"
     },
     "user_tz": -120
    },
    "id": "Hre-l3QaFtkF",
    "outputId": "e6283161-4947-48e8-fb17-8ccbf9f6226c"
   },
   "outputs": [],
   "source": [
    "seq = [1,2,3,4,5]\n",
    "for i in seq:\n",
    "    print(i)"
   ]
  },
  {
   "cell_type": "markdown",
   "metadata": {
    "colab_type": "text",
    "id": "EyAaKQf3IP-I"
   },
   "source": [
    "![alt text](https://media.giphy.com/media/SXT4pJujMMyrq7R5Ai/giphy.gif)"
   ]
  },
  {
   "cell_type": "markdown",
   "metadata": {
    "colab_type": "text",
    "id": "ZILOyddsI9X0"
   },
   "source": [
    "## List Comprehensions\n",
    "\n",
    "List comprehensions are a short way of writing for loops and can be very useful when merging or altering datasets for example. \n",
    "\n",
    "We will show a basic example of this below\n",
    "\n",
    "You can also get a head start before we begin and already watch [this](https://www.youtube.com/watch?v=5K08WcjGV6c) tutorial (7 min)."
   ]
  },
  {
   "cell_type": "code",
   "execution_count": null,
   "metadata": {
    "colab": {
     "base_uri": "https://localhost:8080/",
     "height": 35
    },
    "colab_type": "code",
    "executionInfo": {
     "elapsed": 684,
     "status": "ok",
     "timestamp": 1557856669086,
     "user": {
      "displayName": "Rotterdam AI",
      "photoUrl": "https://lh4.googleusercontent.com/-J7qLLdBb67w/AAAAAAAAAAI/AAAAAAAAAB0/Csm1EYFSJKA/s64/photo.jpg",
      "userId": "10404074903264061006"
     },
     "user_tz": -120
    },
    "id": "hcU8pdLLJARf",
    "outputId": "bcdfeaab-2c53-41ec-d8ab-b7f91cfd29a4"
   },
   "outputs": [],
   "source": [
    "f = [i ** 2 for i in range(1, 7)]\n",
    "print(f)"
   ]
  },
  {
   "cell_type": "code",
   "execution_count": null,
   "metadata": {
    "colab": {
     "base_uri": "https://localhost:8080/",
     "height": 159
    },
    "colab_type": "code",
    "executionInfo": {
     "elapsed": 1560,
     "status": "ok",
     "timestamp": 1558368165156,
     "user": {
      "displayName": "Rotterdam AI",
      "photoUrl": "https://lh4.googleusercontent.com/-J7qLLdBb67w/AAAAAAAAAAI/AAAAAAAAAB0/Csm1EYFSJKA/s64/photo.jpg",
      "userId": "10404074903264061006"
     },
     "user_tz": -120
    },
    "id": "zVfp4sVrJ_lX",
    "outputId": "3ba4a675-ba6e-476e-dda0-4f7943201a69"
   },
   "outputs": [],
   "source": [
    "#######################################################\n",
    "################### Example 4 #######################\n",
    "#######################################################\n",
    "\n",
    "# Print the text \"I am a real Pythonista\" 8 times by making use of the for loop.\n",
    "# The result should look like this:\n",
    "# I am a real Pythonista\n",
    "# I am a real Pythonista\n",
    "# I am a real Pythonista\n",
    "# I am a real Pythonista\n",
    "# I am a real Pythonista\n",
    "# I am a real Pythonista\n",
    "# I am a real Pythonista\n",
    "# I am a real Pythonista\n",
    "\n",
    "for i in range (1,9):\n",
    "    print(\"I am a real Pythonista\")"
   ]
  },
  {
   "cell_type": "code",
   "execution_count": null,
   "metadata": {
    "colab": {
     "base_uri": "https://localhost:8080/",
     "height": 54
    },
    "colab_type": "code",
    "executionInfo": {
     "elapsed": 4271,
     "status": "ok",
     "timestamp": 1558381588256,
     "user": {
      "displayName": "Rotterdam AI",
      "photoUrl": "https://lh4.googleusercontent.com/-J7qLLdBb67w/AAAAAAAAAAI/AAAAAAAAAB0/Csm1EYFSJKA/s64/photo.jpg",
      "userId": "10404074903264061006"
     },
     "user_tz": -120
    },
    "id": "3Qc6zN4L4vet",
    "outputId": "57068609-52b9-4b0e-82ab-cc40c6585c49"
   },
   "outputs": [],
   "source": [
    "#############################################\n",
    "################ Example 5  ################\n",
    "################ (optional) #################\n",
    "#############################################\n",
    "# Write a program which checks if a given number n is a prime number or not. Print a message accordingly.\n",
    "\n",
    "# Definition: A prime number is a natural number greater than 1 that has no positive divisors other than 1 and itself.\n",
    "# The first few prime numbers are {2, 3, 5, 7, 11, ….}.\n",
    "\n",
    "# Python program to check if  \n",
    "# given number is prime or not \n",
    "  \n",
    "n = int(input(\"Input a number: \"))\n",
    "prime = True\n",
    "divisor = 1\n",
    "\n",
    "\n",
    "for i in range(2,n): # loop over for all number from 2 to n-1\n",
    "    divisor += 1       # first divisor would be 2, then 3, then 4, then 5\n",
    "    if n % divisor == 0:\n",
    "        prime = False\n",
    "        break\n",
    "    else:\n",
    "        prime = True\n",
    "\n",
    "# 1 is  considered neither a prime number neither a composite in the Fundamental Theory of Prime Numbers\n",
    "if n == 1:\n",
    "    print(1, \"is neither prime neither composite\")\n",
    "elif (prime):\n",
    "    print(n, \"is a prime number\")\n",
    "else:\n",
    "    print(n, \"is not a prime number because it is divisable by\", divisor)"
   ]
  },
  {
   "cell_type": "markdown",
   "metadata": {
    "colab_type": "text",
    "id": "6yTSu9rWOeph"
   },
   "source": [
    "# Functions"
   ]
  },
  {
   "cell_type": "markdown",
   "metadata": {
    "colab_type": "text",
    "id": "Y21IeWTv4YbV"
   },
   "source": [
    "**Function and Variable Naming Convention**\n",
    "\n",
    "*   Function names should be **lowercase**, with **words separated by underscores** as necessary to improve readability.\n",
    "*   Variable names follow the same convention as function names, namely **lowercase**, with **words separated by underscores** as necessary to improve readability.\n",
    "\n",
    "\n",
    "\n",
    "*   It is ok to write quick and dirty scripts to get some job done.\n",
    "*   Keep in mind that as scripts grow, you will be expected to make them adhere to this guide.\n",
    "\n",
    "\n",
    "*   **What is bad?**\n",
    "*user_list, moveInts, swapNums, dict_to_store_defns_of_a_word*\n",
    "\n",
    "*  **What is good?**\n",
    "*user_info, move_integers, swap_numbers, word_definitions.*\n",
    "\n",
    "\n",
    "\n",
    "\n",
    "**INTERESTING READ from Columbia University(optional): if you want to become a Data Scientist**\n",
    "\n",
    "** Style guide lowclass Python for Data Scientists **\n",
    "-> https://columbia-applied-data-science.github.io/pages/lowclass-python-style-guide.html\n",
    "\n",
    "\n",
    "\n",
    "\n",
    "\n",
    "\n",
    "\n"
   ]
  },
  {
   "cell_type": "markdown",
   "metadata": {
    "colab_type": "text",
    "id": "LlN11nOPJk4_"
   },
   "source": [
    "## Functions\n",
    "\n",
    "Functions take an input, do something with it, and then output the result. Functions can be seen as mini-programs on themselves. \n",
    "\n",
    "![alt text](https://upload.wikimedia.org/wikipedia/commons/thumb/3/3b/Function_machine2.svg/220px-Function_machine2.svg.png)\n",
    "\n",
    "In Python we have 3 types of functions;\n",
    "- **Built-in Functions**. We have seen several of these already, such as the `len()`, `min()` and `print()` functions\n",
    "- User Defined Functions (**UDF**'s) functions that people create themselves\n",
    "- Anonymous or **Lambda functions** ( not declared with the standard `def` keyword )\n",
    "\n",
    "\n",
    "watch this [Video about functions](https://www.youtube.com/watch?v=9Os0o3wzS_I)\n",
    "\n",
    "The syntax for functions in Python is as follows. We have;\n",
    "\n",
    "- `def statement` | function name | parameter\n",
    "- body of the function \n",
    "- function calls | input an argument\n",
    "\n",
    "\n",
    "Remember\n",
    "- a **parameter** is a placeholder for the actual value\n",
    "- an **argument** is the actual value that is passed in"
   ]
  },
  {
   "cell_type": "markdown",
   "metadata": {
    "colab_type": "text",
    "id": "cU6kjhYWJoiO"
   },
   "source": [
    "![alt text](https://drive.google.com/uc?id=1hQV_c74lYUT9lSMD2dltLr_uca80gYK8)\n",
    "\n",
    "what is the parameter here? and the argument?\n"
   ]
  },
  {
   "cell_type": "code",
   "execution_count": null,
   "metadata": {
    "colab": {},
    "colab_type": "code",
    "id": "UoQjBRzFJvlB"
   },
   "outputs": [],
   "source": [
    "def euro_to_pounds(amount):\n",
    "    \"\"\" Example Docstring\n",
    "    Sample\n",
    "    \"\"\"\n",
    "    euros = amount*0.90\n",
    "    #   print(f'{amount} euros is {euros} pounds!')\n",
    "    print(str(amount) + ' euros is ' + str(euros) + 'pounds!')\n",
    "    return euros\n",
    "\n",
    "print(euro_to_pounds(50))"
   ]
  },
  {
   "cell_type": "code",
   "execution_count": null,
   "metadata": {
    "colab": {},
    "colab_type": "code",
    "id": "eHlSZVxeJycF"
   },
   "outputs": [],
   "source": [
    "# we can also create a function without input\n",
    "def say_hello():\n",
    "  \n",
    "  print('Hi there')\n",
    "\n",
    "say_hello()\n",
    "say_hello()"
   ]
  },
  {
   "cell_type": "markdown",
   "metadata": {
    "colab_type": "text",
    "id": "gBp2rhRIJ7An"
   },
   "source": [
    "Functions make your code more efficient. So if you want to execute the same code multiple times, you won't have to write the same code multiple times. In general, you should always avoid having duplicated code. It is not necessary and when having a bug you will have to remember to change it for each line you wrote the code in."
   ]
  },
  {
   "cell_type": "code",
   "execution_count": null,
   "metadata": {
    "colab": {},
    "colab_type": "code",
    "id": "uJUXO3rXJ-R4"
   },
   "outputs": [],
   "source": [
    "name = 'Piet'\n",
    "\n",
    "def func(n):\n",
    "    print(name)\n",
    "    return name\n",
    "\n",
    "func(name)"
   ]
  },
  {
   "cell_type": "markdown",
   "metadata": {
    "colab_type": "text",
    "id": "8mcx-AAKKUxY"
   },
   "source": [
    "- note that when we use `print` there are no quotes from the sting. When we use return the quotes are there. This is because `print` **does not** return the string, but displays it.  \n",
    "- `print` actually returns a special value called `None`\n",
    "  - None is a special value, it stands for the lack of a value\n",
    "  - None doesn't show up when we type it \n",
    "- Each function call has a return value. Without the return statement however, your function will return the None value, which is not visible.\n",
    "\n",
    "\n",
    "\n",
    "---\n",
    "\n",
    "We can return multiple values at once.\n",
    "- note that without explicitly telling which variable is which value, is is assumed that the order determines to which var it belongs."
   ]
  },
  {
   "cell_type": "code",
   "execution_count": null,
   "metadata": {
    "colab": {},
    "colab_type": "code",
    "id": "UQMpOQLJKYLD"
   },
   "outputs": [],
   "source": [
    "# declare a function\n",
    "def multiply(i,j):\n",
    "    multiplication_result = i * j\n",
    "    return (multiplication_result, i, j)\n",
    "\n",
    "# Call function\n",
    "multiply(j=3,i=4)"
   ]
  },
  {
   "cell_type": "code",
   "execution_count": null,
   "metadata": {
    "colab": {
     "base_uri": "https://localhost:8080/",
     "height": 70
    },
    "colab_type": "code",
    "executionInfo": {
     "elapsed": 3507,
     "status": "ok",
     "timestamp": 1558370909330,
     "user": {
      "displayName": "Rotterdam AI",
      "photoUrl": "https://lh4.googleusercontent.com/-J7qLLdBb67w/AAAAAAAAAAI/AAAAAAAAAB0/Csm1EYFSJKA/s64/photo.jpg",
      "userId": "10404074903264061006"
     },
     "user_tz": -120
    },
    "id": "rlF7zL5hLDJc",
    "outputId": "8a20e033-706c-4da7-be82-761eb82bb0b7"
   },
   "outputs": [],
   "source": [
    "#######################################################\n",
    "################### Example 5 #######################\n",
    "#######################################################\n",
    "\n",
    "# Create a function that takes as input the name and age from the user. \n",
    "# The function must return the age of the user + his/her name. \"... is ... old!\"\n",
    "\n",
    "name = input(\"What is your name?\")\n",
    "age = int(input(\"What is your age?\"))\n",
    "\n",
    "def info_about_user(name, age):\n",
    "    return(name + \" is \" + str(age) + \" old! \")\n",
    "\n",
    "info_about_user(name,age)"
   ]
  },
  {
   "cell_type": "code",
   "execution_count": null,
   "metadata": {
    "colab": {},
    "colab_type": "code",
    "id": "yFrDQA8HLSm8"
   },
   "outputs": [],
   "source": [
    "#######################################################\n",
    "################### Example 6 #######################\n",
    "#######################################################\n",
    "\n",
    "# Create a function that takes a number, first multiplies it with 2.71828 then squares the outcome, then times 5. Return the result.\n",
    "\n",
    "number = int(input(\"Insert a number: \"))\n",
    "def multiplication(number):\n",
    "    return(pow((number * 2.71828), 2) * 5)\n",
    "\n",
    "multiplication(number)"
   ]
  },
  {
   "cell_type": "code",
   "execution_count": null,
   "metadata": {
    "colab": {
     "base_uri": "https://localhost:8080/",
     "height": 106
    },
    "colab_type": "code",
    "executionInfo": {
     "elapsed": 5825,
     "status": "ok",
     "timestamp": 1558371418419,
     "user": {
      "displayName": "Rotterdam AI",
      "photoUrl": "https://lh4.googleusercontent.com/-J7qLLdBb67w/AAAAAAAAAAI/AAAAAAAAAB0/Csm1EYFSJKA/s64/photo.jpg",
      "userId": "10404074903264061006"
     },
     "user_tz": -120
    },
    "id": "W8tBrGJ7Lg_v",
    "outputId": "d0c054f9-5fe0-46b3-9484-ff04485c87fe"
   },
   "outputs": [],
   "source": [
    "#######################################################\n",
    "################### Example 7 #######################\n",
    "#######################################################\n",
    "\n",
    "# Create a function: what_should_I_drink that first asks the user if today is January or not. \n",
    "# If the answer is yes, ask the user what time of the day it is. If the answer is no, say too bad.\n",
    "# Then, depending on the time of the day, return a different drink for each. (e.g. morning, afternoon, evening)\n",
    "\n",
    "def what_should_I_drink():\n",
    "    firstAnswer = input('Is today in January or not?\\n')\n",
    "    if firstAnswer == 'yes':\n",
    "        secondAnswer = input('What time of the day it is?\\n')\n",
    "        if secondAnswer == 'morning':\n",
    "            return('Irish coffee')\n",
    "        elif secondAnswer == 'afternoon':\n",
    "            return('Tea')\n",
    "        elif secondAnswer == 'evening':\n",
    "            return('Wine')\n",
    "        elif secondAnswer == 'no':\n",
    "            return('Too bad')\n",
    "        else:\n",
    "            return('No valid input, try again')\n",
    "    else:\n",
    "        return('No valid input, try again')\n",
    "                        \n",
    "what_should_I_drink()\n"
   ]
  },
  {
   "cell_type": "code",
   "execution_count": null,
   "metadata": {
    "colab": {
     "base_uri": "https://localhost:8080/",
     "height": 52
    },
    "colab_type": "code",
    "executionInfo": {
     "elapsed": 8138,
     "status": "ok",
     "timestamp": 1558371532971,
     "user": {
      "displayName": "Rotterdam AI",
      "photoUrl": "https://lh4.googleusercontent.com/-J7qLLdBb67w/AAAAAAAAAAI/AAAAAAAAAB0/Csm1EYFSJKA/s64/photo.jpg",
      "userId": "10404074903264061006"
     },
     "user_tz": -120
    },
    "id": "6ahXqwr4LtvN",
    "outputId": "284d874f-850c-4e34-d19d-1a3fdaa74fbf"
   },
   "outputs": [],
   "source": [
    "#######################################################\n",
    "################### Example 7 ######################\n",
    "###################### optional #######################\n",
    "#######################################################\n",
    "\n",
    "# Create a function that has a string as input, such as - 'h sh i hello th hoi j'*- * \n",
    "# that returns the string without spaces. The function has to work for inputs from various lengths.\n",
    "\n",
    "user_string = input('Type your string')\n",
    "\n",
    "def string_without_spaces(user_string):\n",
    "    user_string = user_string.replace(' ','')\n",
    "    return user_string\n",
    "\n",
    "string_without_spaces(user_string)"
   ]
  },
  {
   "cell_type": "markdown",
   "metadata": {
    "colab_type": "text",
    "id": "dLTzX2H_XqV8"
   },
   "source": [
    "**Modules and Libraries in Python**\n",
    "\n",
    "**Library**\n",
    "*   collection of functions and methods that allows you to perform many actions without writing much code.\n",
    "*   *import* statement\n",
    "*   *wildcard* *\n",
    "\n",
    "\n",
    "**Module**\n",
    "\n",
    "* created by You -> we call them \"user-defined modules\"\n",
    "* created by others or external source like PyPI.\n",
    "* preinstalled (already there when you first installed executable).\n",
    "\n",
    "\n",
    "\n",
    "Most-known & used by Data Scientists | app. 15 Python Libraries | from information extraction to deep learning modules:\n",
    "\n",
    "*   ***Numpy***: *scientific computing*\n",
    "*   ***Pandas***: *data manipulation and analysis*\n",
    "*   ***Matplotlib***: *data visualization*\n",
    "*   ***Open-CV***: real-time computer vision and image processing. Makes use of NumPy\n",
    "*   ***PyTorch***: neural network modeling library with GUI\n",
    "*   ***NLTK***: Language Processing.\n",
    "*   ***PIL (Python Imaging Library)***: for image manipulation\n",
    "*   ***Pillow***: derived from PIL\n",
    "*   ***Beautiful Soup***: extracts info from HTML and XML.\n",
    "*   ***Scrapy***. Extract data and web crawler.\n",
    "*   ***SciPy***. Signal processing, optimization and statistics.\n",
    "*   ***Scikit-learn***. machine learning and data mining.\n",
    "*   ***Tensorflow***. Machine learning and deep learning.\n",
    "*   ***Keras***. Neural networks API. Supports deep learning.\n",
    "*   ***SpaCy***. Large scale extracting and analysing of textual information. Support deep learning.\n",
    "*   ***Seaborn***. Also for data visualization. Also support for pandas and Numpy.\n",
    "*   ***Bokeh***. Support large-scale interactivity and visualizations of real-time data sets.\n",
    "*   ***Plotly***. For making publication-quality plots and graphs. Widely used in finance and geospatial industries.\n",
    "\n",
    "\n"
   ]
  },
  {
   "cell_type": "code",
   "execution_count": null,
   "metadata": {
    "colab": {},
    "colab_type": "code",
    "id": "HakkiYaNQwJf"
   },
   "outputs": [],
   "source": [
    "# Step1. Install a library (if not installed by default)\n",
    "!pip install [package name]"
   ]
  },
  {
   "cell_type": "code",
   "execution_count": null,
   "metadata": {
    "colab": {},
    "colab_type": "code",
    "id": "dmD86bFsH4t7"
   },
   "outputs": [],
   "source": [
    "!pip install tensorflow==1.9.0-rc1 keras==2.1.6"
   ]
  },
  {
   "cell_type": "code",
   "execution_count": null,
   "metadata": {
    "colab": {},
    "colab_type": "code",
    "id": "9QivEArnXuEI"
   },
   "outputs": [],
   "source": [
    "# Step 2.Import a library\n",
    "from <module_name> import <library_name> as <preferred_name>"
   ]
  },
  {
   "cell_type": "code",
   "execution_count": null,
   "metadata": {
    "colab": {},
    "colab_type": "code",
    "id": "1e-F0kf_Z3XP"
   },
   "outputs": [],
   "source": [
    "import foo                 # foo imported and bound locally\n",
    "import foo.bar.baz         # foo.bar.baz imported, foo bound locally\n",
    "import foo.bar.baz as fbb  # foo.bar.baz imported and bound as fbb\n",
    "from foo.bar import baz    # foo.bar.baz imported and bound as baz\n",
    "from foo import attr       # foo imported and foo.attr bound as attr"
   ]
  },
  {
   "cell_type": "code",
   "execution_count": null,
   "metadata": {
    "colab": {},
    "colab_type": "code",
    "id": "AmDefiAucFNY"
   },
   "outputs": [],
   "source": [
    "# example:\n",
    "from math import pi\n",
    "print(pi)\n",
    "\n",
    "# math library has ceil(), round(), factorial(), trigonometric(sin, cos, tan) methods and etc. but also mathematical constants: pi, e= 2.718281, tau \n",
    "\n",
    "# What happens if we do:\n",
    "# from math import pi as p\n",
    "# print(p)"
   ]
  },
  {
   "cell_type": "markdown",
   "metadata": {
    "colab_type": "text",
    "id": "b4CADDtbOmJ2"
   },
   "source": [
    "# Numpy"
   ]
  },
  {
   "cell_type": "markdown",
   "metadata": {
    "colab_type": "text",
    "id": "V4pl5H00WmBZ"
   },
   "source": [
    "\n",
    "\n",
    "*   Linear Algebra Library for Python\n",
    "*   Incredibly fast (as it has bindings to C libraries)\n",
    "*  **superpower**: arrays . Why would you use Numpy arrays instead of lists? Read [here this awesome Stackoverflow post!](https://stackoverflow.com/questions/993984/what-are-the-advantages-of-numpy-over-regular-python-lists)\n",
    "\n"
   ]
  },
  {
   "cell_type": "code",
   "execution_count": null,
   "metadata": {
    "colab": {},
    "colab_type": "code",
    "id": "KAgLyUqbiz2X"
   },
   "outputs": [],
   "source": [
    "import numpy as np"
   ]
  },
  {
   "cell_type": "code",
   "execution_count": null,
   "metadata": {
    "colab": {},
    "colab_type": "code",
    "id": "EF_QPvFzi_5Y"
   },
   "outputs": [],
   "source": [
    "import numpy as np\n",
    "\n",
    "# a = np.array(1,2,3,4)    # WRONG\n",
    "a = np.array([1,2,3,4])  # RIGHT"
   ]
  },
  {
   "cell_type": "code",
   "execution_count": null,
   "metadata": {
    "colab": {},
    "colab_type": "code",
    "id": "6pWBjBlP_BsP"
   },
   "outputs": [],
   "source": [
    "my_matrix = [[1,2,3],[4,5,6],[7,8,9]]\n",
    "my_matrix"
   ]
  },
  {
   "cell_type": "code",
   "execution_count": null,
   "metadata": {
    "colab": {},
    "colab_type": "code",
    "id": "wHBNKa2i_EgX"
   },
   "outputs": [],
   "source": [
    "np.array(my_matrix)"
   ]
  },
  {
   "cell_type": "code",
   "execution_count": null,
   "metadata": {
    "colab": {},
    "colab_type": "code",
    "id": "5pqhgvdA_aXU"
   },
   "outputs": [],
   "source": [
    "# Return evenly spaced values within a given interval.\n",
    "np.arange(0,20)"
   ]
  },
  {
   "cell_type": "code",
   "execution_count": null,
   "metadata": {
    "colab": {},
    "colab_type": "code",
    "id": "IwHxjLCX_iLX"
   },
   "outputs": [],
   "source": [
    "np.arange(0,20,2)"
   ]
  },
  {
   "cell_type": "code",
   "execution_count": null,
   "metadata": {
    "colab": {},
    "colab_type": "code",
    "id": "bzw5mXh9_mWW"
   },
   "outputs": [],
   "source": [
    "np.zeros(3)"
   ]
  },
  {
   "cell_type": "code",
   "execution_count": null,
   "metadata": {
    "colab": {},
    "colab_type": "code",
    "id": "lRSjJQMn_ooQ"
   },
   "outputs": [],
   "source": [
    "np.zeros((5,5))"
   ]
  },
  {
   "cell_type": "code",
   "execution_count": null,
   "metadata": {
    "colab": {},
    "colab_type": "code",
    "id": "OcM79cDM_qY9"
   },
   "outputs": [],
   "source": [
    "np.ones(3)"
   ]
  },
  {
   "cell_type": "code",
   "execution_count": null,
   "metadata": {
    "colab": {},
    "colab_type": "code",
    "id": "7CNGnOoW_r-M"
   },
   "outputs": [],
   "source": [
    "np.ones((3,3))"
   ]
  },
  {
   "cell_type": "markdown",
   "metadata": {
    "colab_type": "text",
    "id": "1llyWTkS_5X9"
   },
   "source": [
    "### linspace\n",
    "Return evenly spaced numbers over a specified interval."
   ]
  },
  {
   "cell_type": "code",
   "execution_count": null,
   "metadata": {
    "colab": {},
    "colab_type": "code",
    "id": "-17uxt8W__C4"
   },
   "outputs": [],
   "source": [
    "# creating numeric sequence of 3 numbers from 0 to 10 \n",
    "np.linspace(0,10,3)"
   ]
  },
  {
   "cell_type": "code",
   "execution_count": null,
   "metadata": {
    "colab": {},
    "colab_type": "code",
    "id": "JLsrKNXbAC5i"
   },
   "outputs": [],
   "source": [
    "np.linspace(0,10,50)"
   ]
  },
  {
   "cell_type": "markdown",
   "metadata": {
    "colab_type": "text",
    "id": "hu_CmPsIAKNl"
   },
   "source": [
    "### max,min,argmax,argmin\n",
    "\n",
    "These are useful methods for finding max or min values. Or to find their index locations using argmin or argmax"
   ]
  },
  {
   "cell_type": "code",
   "execution_count": null,
   "metadata": {
    "colab": {},
    "colab_type": "code",
    "id": "837qAsraAMxI"
   },
   "outputs": [],
   "source": [
    "simple_array = np.array([0.23, -1, 35, 11, -44, 90.21, 0.2, -300, 300.5])\n",
    "\n",
    "simple_array.max() # returns the max from the array.\n",
    "simple_array.min() # returns the min from the array.\n",
    "simple_array.argmax() # returns the indices of the maximum value.\n",
    "simple_array.argmin() # returns the indices of the minimum value."
   ]
  },
  {
   "cell_type": "code",
   "execution_count": null,
   "metadata": {
    "colab": {},
    "colab_type": "code",
    "id": "JMeeq-IIBK34"
   },
   "outputs": [],
   "source": [
    "dir(np.array)"
   ]
  },
  {
   "cell_type": "markdown",
   "metadata": {
    "colab_type": "text",
    "id": "TcxnewOqB3I1"
   },
   "source": [
    "### Numpy arrays operations\n",
    "\n",
    "\n",
    "*   Arrays arithmetic operations\n",
    "*   Arays with a scalar operations\n",
    "\n"
   ]
  },
  {
   "cell_type": "code",
   "execution_count": null,
   "metadata": {
    "colab": {},
    "colab_type": "code",
    "id": "0Kcy9LJFDfbv"
   },
   "outputs": [],
   "source": [
    "array = np.arange(0,10)\n",
    "array"
   ]
  },
  {
   "cell_type": "code",
   "execution_count": null,
   "metadata": {
    "colab": {},
    "colab_type": "code",
    "id": "BjXxOrsmDXc2"
   },
   "outputs": [],
   "source": [
    "# Addition of 2 arrays\n",
    "array + array"
   ]
  },
  {
   "cell_type": "code",
   "execution_count": null,
   "metadata": {
    "colab": {},
    "colab_type": "code",
    "id": "5geGPvKIDY7k"
   },
   "outputs": [],
   "source": [
    "# Multiplication of 2 arrays\n",
    "array * array"
   ]
  },
  {
   "cell_type": "code",
   "execution_count": null,
   "metadata": {
    "colab": {},
    "colab_type": "code",
    "id": "Hj0lgrxyDaYb"
   },
   "outputs": [],
   "source": [
    "# Subtraction between 2 arrays\n",
    "array - array"
   ]
  },
  {
   "cell_type": "code",
   "execution_count": null,
   "metadata": {
    "colab": {},
    "colab_type": "code",
    "id": "TLAj8ojtDuLb"
   },
   "outputs": [],
   "source": [
    "# Division\n",
    "# Warning on division by zero, but not an error!\n",
    "# Just replaced with nan\n",
    "array/array"
   ]
  },
  {
   "cell_type": "code",
   "execution_count": null,
   "metadata": {
    "colab": {},
    "colab_type": "code",
    "id": "9UJZAMQFD3Tt"
   },
   "outputs": [],
   "source": [
    "# Also warning, but not an error instead infinity\n",
    "1/array"
   ]
  },
  {
   "cell_type": "code",
   "execution_count": null,
   "metadata": {
    "colab": {},
    "colab_type": "code",
    "id": "10lA4VgAD6k2"
   },
   "outputs": [],
   "source": [
    "# Raise to the power (element-wise)\n",
    "array**3\n",
    "\n",
    "# Square the array (element-wise)\n",
    "np.square(array)\n",
    "\n",
    "# or power method\n",
    "np.power(array, 2) # > this is slower than the square. power is used when we want to raise to different powers different elements in the array\n"
   ]
  },
  {
   "cell_type": "code",
   "execution_count": null,
   "metadata": {
    "colab": {},
    "colab_type": "code",
    "id": "KqdEAUTKFSo9"
   },
   "outputs": [],
   "source": [
    "#Taking Square Roots\n",
    "np.sqrt(array)"
   ]
  },
  {
   "cell_type": "code",
   "execution_count": null,
   "metadata": {
    "colab": {},
    "colab_type": "code",
    "id": "e-ewnXpHFWKn"
   },
   "outputs": [],
   "source": [
    "#Calcualting exponential (e^)\n",
    "np.exp(array)"
   ]
  },
  {
   "cell_type": "code",
   "execution_count": null,
   "metadata": {
    "colab": {},
    "colab_type": "code",
    "id": "cGHM6jDsFfet"
   },
   "outputs": [],
   "source": [
    "#######################################################\n",
    "################### Example 8 #######################\n",
    "#######################################################\n",
    "\n",
    "# Create an array of 10 zeros"
   ]
  },
  {
   "cell_type": "code",
   "execution_count": null,
   "metadata": {
    "colab": {},
    "colab_type": "code",
    "id": "i_ci_plPFxRG"
   },
   "outputs": [],
   "source": [
    "#######################################################\n",
    "################### Example 9  ######################\n",
    "#######################################################\n",
    "\n",
    "# Create an array of the integers from 10 to 50"
   ]
  },
  {
   "cell_type": "code",
   "execution_count": null,
   "metadata": {
    "colab": {},
    "colab_type": "code",
    "id": "aX5umjZFF-Fl"
   },
   "outputs": [],
   "source": [
    "#######################################################\n",
    "################### Example 10 ######################\n",
    "#######################################################\n",
    "\n",
    "# Create a 3x3 matrix with values ranging from 0 to 8"
   ]
  },
  {
   "cell_type": "code",
   "execution_count": null,
   "metadata": {
    "colab": {},
    "colab_type": "code",
    "id": "GTNy4EY-GOXh"
   },
   "outputs": [],
   "source": [
    "#######################################################\n",
    "################### Example 11 ######################\n",
    "#######################################################\n",
    "\n",
    "# Use NumPy to generate an array of 25 random numbers sampled from a standard normal distribution"
   ]
  },
  {
   "cell_type": "code",
   "execution_count": null,
   "metadata": {
    "colab": {},
    "colab_type": "code",
    "id": "NcWYW_nyGZGq"
   },
   "outputs": [],
   "source": [
    "#######################################################\n",
    "################### Example 12 ######################\n",
    "#######################################################\n",
    "\n",
    "# Create an array of 20 linearly spaced points between 0 and 1:"
   ]
  },
  {
   "cell_type": "code",
   "execution_count": null,
   "metadata": {
    "colab": {},
    "colab_type": "code",
    "id": "A2C8TKvSGfrY"
   },
   "outputs": [],
   "source": [
    "#######################################################\n",
    "################### Example 13 ######################\n",
    "#######################################################\n",
    "\n",
    "# Given the matrix below\n",
    "\n",
    "matrix = np.arange(1,26).reshape(5,5)\n",
    "matrix\n",
    "\n",
    "# array([[ 1,  2,  3,  4,  5],\n",
    "#        [ 6,  7,  8,  9, 10],\n",
    "#        [11, 12, 13, 14, 15],\n",
    "#        [16, 17, 18, 19, 20],\n",
    "#        [21, 22, 23, 24, 25]])\n",
    "\n",
    "# WRITE CODE  THAT REPRODUCES THE OUTPUT BELOW\n",
    "\n",
    "# array([[12, 13, 14, 15],\n",
    "#        [17, 18, 19, 20],\n",
    "#        [22, 23, 24, 25]])\n",
    "\n",
    "# Hint: look at the number of rows & columns and think about  operation that has to be applied on the initial matrix."
   ]
  },
  {
   "cell_type": "code",
   "execution_count": null,
   "metadata": {
    "colab": {
     "base_uri": "https://localhost:8080/",
     "height": 106
    },
    "colab_type": "code",
    "executionInfo": {
     "elapsed": 563,
     "status": "ok",
     "timestamp": 1558368363998,
     "user": {
      "displayName": "Rotterdam AI",
      "photoUrl": "https://lh4.googleusercontent.com/-J7qLLdBb67w/AAAAAAAAAAI/AAAAAAAAAB0/Csm1EYFSJKA/s64/photo.jpg",
      "userId": "10404074903264061006"
     },
     "user_tz": -120
    },
    "id": "jPAbEJS8HZtI",
    "outputId": "87a9754e-ce1e-4ca2-e53e-3b06ad1afaaa"
   },
   "outputs": [],
   "source": [
    "#######################################################\n",
    "################### Example 14 ######################\n",
    "#######################################################\n",
    "\n",
    "# Given the matrix below, print the sum of all the columns in matrix.\n",
    "\n",
    "matrix = np.arange(1,26).reshape(5,5)\n",
    "matrix\n",
    "\n",
    "for i in range(len(matrix[0])):\n",
    "    print(sum(matrix[:,i]))"
   ]
  },
  {
   "cell_type": "markdown",
   "metadata": {
    "colab_type": "text",
    "id": "efQvf2tAOn-r"
   },
   "source": [
    "# Pandas"
   ]
  },
  {
   "cell_type": "markdown",
   "metadata": {
    "colab_type": "text",
    "id": "mKR8PUwnQeXl"
   },
   "source": [
    "## Introduction to Pandas\n",
    "\n",
    "In this section of the course we will learn how to use pandas for data analysis. You can think of pandas as an extremely powerful version of Excel, with a lot more features. In this section of the course, you should go through the notebooks in this order:\n",
    "\n",
    "* Introduction to Pandas\n",
    "* Series\n",
    "* DataFrames\n",
    "* Missing Data\n",
    "* GroupBy\n",
    "* Merging,Joining,and Concatenating\n",
    "* Operations\n",
    "* Data Input and Output"
   ]
  },
  {
   "cell_type": "markdown",
   "metadata": {
    "colab_type": "text",
    "id": "ZfrK4vx1Qo1B"
   },
   "source": [
    "### Series\n",
    "\n",
    "The first main data type we will learn about for pandas is the Series data type. Let's import Pandas and explore the Series object.\n",
    "\n",
    "A Series is very similar to a NumPy array (in fact it is built on top of the NumPy array object). What differentiates the NumPy array from a Series, is that a Series can have axis labels, meaning it can be indexed by a label, instead of just a number location. It also doesn't need to hold numeric data, it can hold any arbitrary Python Object.\n",
    "\n",
    "Let's explore this concept through some examples:"
   ]
  },
  {
   "cell_type": "code",
   "execution_count": null,
   "metadata": {
    "colab": {},
    "colab_type": "code",
    "id": "FWXtNvdJQwTV"
   },
   "outputs": [],
   "source": [
    "import numpy as np\n",
    "import pandas as pd\n",
    "\n",
    "# Create series\n",
    "\n",
    "# You can convert a list,numpy array, or dictionary to a Series:\n",
    "labels = ['a','b','c']\n",
    "my_list = [10,20,30]\n",
    "arr = np.array([10,20,30])\n",
    "d = {'a':10,'b':20,'c':30}"
   ]
  },
  {
   "cell_type": "code",
   "execution_count": null,
   "metadata": {
    "colab": {},
    "colab_type": "code",
    "id": "3QojrmQbQ86L"
   },
   "outputs": [],
   "source": [
    "pd.Series(data=my_list)"
   ]
  },
  {
   "cell_type": "code",
   "execution_count": null,
   "metadata": {
    "colab": {},
    "colab_type": "code",
    "id": "sU4GbpBvQ--3"
   },
   "outputs": [],
   "source": [
    "pd.Series(data=my_list,index=labels)"
   ]
  },
  {
   "cell_type": "code",
   "execution_count": null,
   "metadata": {
    "colab": {},
    "colab_type": "code",
    "id": "gBFScgkQRAuc"
   },
   "outputs": [],
   "source": [
    "pd.Series(my_list,labels)"
   ]
  },
  {
   "cell_type": "markdown",
   "metadata": {
    "colab_type": "text",
    "id": "MOYXdzu5ROaS"
   },
   "source": [
    "## Using an Index\n",
    "\n",
    "The key to using a Series is understanding its index. Pandas makes use of these index names or numbers by allowing for fast look ups of information (works like a hash table or dictionary).\n",
    "\n",
    "Let's see some examples of how to grab information from a Series. Let us create two sereis, ser1 and ser2:"
   ]
  },
  {
   "cell_type": "code",
   "execution_count": null,
   "metadata": {
    "colab": {},
    "colab_type": "code",
    "id": "qUbcu9CvRMOO"
   },
   "outputs": [],
   "source": [
    "ser1 = pd.Series([1,2,3,4],index = ['USA', 'Germany','USSR', 'Japan']) \n",
    "ser2 = pd.Series([1,2,5,4],index = ['USA', 'Germany','Italy', 'Japan'])                                   "
   ]
  },
  {
   "cell_type": "code",
   "execution_count": null,
   "metadata": {
    "colab": {},
    "colab_type": "code",
    "id": "LvoTpqVRRRmf"
   },
   "outputs": [],
   "source": [
    "ser1+ser2"
   ]
  },
  {
   "cell_type": "markdown",
   "metadata": {
    "colab_type": "text",
    "id": "cwHXYnUmRXfg"
   },
   "source": [
    "### DataFrames\n",
    "\n",
    "DataFrames are the workhorse of pandas and are directly inspired by the R programming language. We can think of a DataFrame as a bunch of Series objects put together to share the same index. Let's use pandas to explore this topic!"
   ]
  },
  {
   "cell_type": "code",
   "execution_count": null,
   "metadata": {
    "colab": {},
    "colab_type": "code",
    "id": "bzfQllk3Rcdh"
   },
   "outputs": [],
   "source": [
    "from numpy.random import randn\n",
    "np.random.seed(101)"
   ]
  },
  {
   "cell_type": "code",
   "execution_count": null,
   "metadata": {
    "colab": {},
    "colab_type": "code",
    "id": "zKOmhP4cRd5p"
   },
   "outputs": [],
   "source": [
    "df = pd.DataFrame(randn(5,4),index='A B C D E'.split(),columns='W X Y Z'.split())"
   ]
  },
  {
   "cell_type": "code",
   "execution_count": null,
   "metadata": {
    "colab": {},
    "colab_type": "code",
    "id": "BbCjCo6wRfgE"
   },
   "outputs": [],
   "source": [
    "df"
   ]
  },
  {
   "cell_type": "markdown",
   "metadata": {
    "colab_type": "text",
    "id": "GQ2tcuUfRiat"
   },
   "source": [
    "## Selection and Indexing\n",
    "\n",
    "Let's learn the various methods to grab data from a DataFrame"
   ]
  },
  {
   "cell_type": "code",
   "execution_count": null,
   "metadata": {
    "colab": {},
    "colab_type": "code",
    "id": "Fq8LwRxORkUe"
   },
   "outputs": [],
   "source": [
    "df['W']"
   ]
  },
  {
   "cell_type": "code",
   "execution_count": null,
   "metadata": {
    "colab": {},
    "colab_type": "code",
    "id": "OEK5-k1FRmW-"
   },
   "outputs": [],
   "source": [
    "# Pass a list of column names\n",
    "df[['W','Z']]"
   ]
  },
  {
   "cell_type": "code",
   "execution_count": null,
   "metadata": {
    "colab": {},
    "colab_type": "code",
    "id": "1IBsgfTUR-UU"
   },
   "outputs": [],
   "source": [
    "type(df['W'])"
   ]
  },
  {
   "cell_type": "code",
   "execution_count": null,
   "metadata": {
    "colab": {},
    "colab_type": "code",
    "id": "k6wNnVK7SA9I"
   },
   "outputs": [],
   "source": [
    "df['new'] = df['W'] + df['Y']"
   ]
  },
  {
   "cell_type": "code",
   "execution_count": null,
   "metadata": {
    "colab": {},
    "colab_type": "code",
    "id": "p0dovHgxSDhP"
   },
   "outputs": [],
   "source": [
    "# remove columns\n",
    "df.drop('new',axis=1)"
   ]
  },
  {
   "cell_type": "code",
   "execution_count": null,
   "metadata": {
    "colab": {},
    "colab_type": "code",
    "id": "7yR6vv9pSKiT"
   },
   "outputs": [],
   "source": [
    "# Not inplace unless specified!\n",
    "df"
   ]
  },
  {
   "cell_type": "code",
   "execution_count": null,
   "metadata": {
    "colab": {},
    "colab_type": "code",
    "id": "9yK8ltF8SMk9"
   },
   "outputs": [],
   "source": [
    "# drop rows (remove rows)\n",
    "df.drop('E',axis=0)"
   ]
  },
  {
   "cell_type": "code",
   "execution_count": null,
   "metadata": {
    "colab": {},
    "colab_type": "code",
    "id": "DAmVqz1NSPse"
   },
   "outputs": [],
   "source": [
    "df"
   ]
  },
  {
   "cell_type": "code",
   "execution_count": null,
   "metadata": {
    "colab": {},
    "colab_type": "code",
    "id": "B5t0-pQFSSGl"
   },
   "outputs": [],
   "source": [
    "# selecting rows\n",
    "df.loc['A']"
   ]
  },
  {
   "cell_type": "code",
   "execution_count": null,
   "metadata": {
    "colab": {},
    "colab_type": "code",
    "id": "-lQw0rMcSVBm"
   },
   "outputs": [],
   "source": [
    "# Or select based off of position instead of label \n",
    "df.iloc[2]"
   ]
  },
  {
   "cell_type": "code",
   "execution_count": null,
   "metadata": {
    "colab": {},
    "colab_type": "code",
    "id": "d1wOJ9m-SaOV"
   },
   "outputs": [],
   "source": [
    "# ** Selecting subset of rows and columns **\n",
    "df.loc['B','Y']"
   ]
  },
  {
   "cell_type": "markdown",
   "metadata": {
    "colab_type": "text",
    "id": "k5wMhkqRSk81"
   },
   "source": [
    "### Conditional Selection\n",
    "\n",
    "An important feature of pandas is conditional selection using bracket notation, very similar to numpy:"
   ]
  },
  {
   "cell_type": "code",
   "execution_count": null,
   "metadata": {
    "colab": {},
    "colab_type": "code",
    "id": "M4hp91GrSn6g"
   },
   "outputs": [],
   "source": [
    "df"
   ]
  },
  {
   "cell_type": "code",
   "execution_count": null,
   "metadata": {
    "colab": {},
    "colab_type": "code",
    "id": "1kpI4V0zSoho"
   },
   "outputs": [],
   "source": [
    "df>0"
   ]
  },
  {
   "cell_type": "code",
   "execution_count": null,
   "metadata": {
    "colab": {},
    "colab_type": "code",
    "id": "MD9JIYCgSq3W"
   },
   "outputs": [],
   "source": [
    "df[df>0]"
   ]
  },
  {
   "cell_type": "code",
   "execution_count": null,
   "metadata": {
    "colab": {},
    "colab_type": "code",
    "id": "UaORfILDSsn3"
   },
   "outputs": [],
   "source": [
    "df[df['W']>0]"
   ]
  },
  {
   "cell_type": "code",
   "execution_count": null,
   "metadata": {
    "colab": {},
    "colab_type": "code",
    "id": "x5NXEwanSuc5"
   },
   "outputs": [],
   "source": [
    "df[df['W']>0]['Y']"
   ]
  },
  {
   "cell_type": "code",
   "execution_count": null,
   "metadata": {
    "colab": {},
    "colab_type": "code",
    "id": "mlPwpKliSvxH"
   },
   "outputs": [],
   "source": [
    "df[df['W']>0][['Y','X']]"
   ]
  },
  {
   "cell_type": "code",
   "execution_count": null,
   "metadata": {
    "colab": {},
    "colab_type": "code",
    "id": "s0lqIhILSyFq"
   },
   "outputs": [],
   "source": [
    "# For two conditions you can use | and & with parenthesis:\n",
    "df[(df['W']>0) & (df['Y'] > 1)]"
   ]
  },
  {
   "cell_type": "markdown",
   "metadata": {
    "colab_type": "text",
    "id": "0BZYB8S-TEYi"
   },
   "source": [
    "### Merging, Joining, and Concatenating\n",
    "\n",
    "There are 3 main ways of combining DataFrames together: Merging, Joining and Concatenating. In this lecture we will discuss these 3 methods with examples.\n"
   ]
  },
  {
   "cell_type": "code",
   "execution_count": null,
   "metadata": {
    "colab": {},
    "colab_type": "code",
    "id": "NTp-aNFETDmv"
   },
   "outputs": [],
   "source": [
    "df1 = pd.DataFrame({'A': ['A0', 'A1', 'A2', 'A3'],\n",
    "                        'B': ['B0', 'B1', 'B2', 'B3'],\n",
    "                        'C': ['C0', 'C1', 'C2', 'C3'],\n",
    "                        'D': ['D0', 'D1', 'D2', 'D3']},\n",
    "                        index=[0, 1, 2, 3])\n",
    "\n",
    "df2 = pd.DataFrame({'A': ['A4', 'A5', 'A6', 'A7'],\n",
    "                        'B': ['B4', 'B5', 'B6', 'B7'],\n",
    "                        'C': ['C4', 'C5', 'C6', 'C7'],\n",
    "                        'D': ['D4', 'D5', 'D6', 'D7']},\n",
    "                         index=[4, 5, 6, 7]) \n",
    "\n",
    "df3 = pd.DataFrame({'A': ['A8', 'A9', 'A10', 'A11'],\n",
    "                        'B': ['B8', 'B9', 'B10', 'B11'],\n",
    "                        'C': ['C8', 'C9', 'C10', 'C11'],\n",
    "                        'D': ['D8', 'D9', 'D10', 'D11']},\n",
    "                        index=[8, 9, 10, 11])"
   ]
  },
  {
   "cell_type": "code",
   "execution_count": null,
   "metadata": {
    "colab": {},
    "colab_type": "code",
    "id": "o6jlwutTTLin"
   },
   "outputs": [],
   "source": [
    "df1"
   ]
  },
  {
   "cell_type": "code",
   "execution_count": null,
   "metadata": {
    "colab": {},
    "colab_type": "code",
    "id": "Z22JBJtGTMRk"
   },
   "outputs": [],
   "source": [
    "df2"
   ]
  },
  {
   "cell_type": "code",
   "execution_count": null,
   "metadata": {
    "colab": {},
    "colab_type": "code",
    "id": "iOXCCkw3TM2n"
   },
   "outputs": [],
   "source": [
    "df3"
   ]
  },
  {
   "cell_type": "code",
   "execution_count": null,
   "metadata": {
    "colab": {},
    "colab_type": "code",
    "id": "dMOZQuT0TP0u"
   },
   "outputs": [],
   "source": [
    "# concatenation\n",
    "pd.concat([df1,df2,df3])\n",
    "\n",
    "pd.concat([df1,df2,df3],axis=1)"
   ]
  },
  {
   "cell_type": "markdown",
   "metadata": {
    "colab_type": "text",
    "id": "Um8yacI7Tc_1"
   },
   "source": [
    "### Merging\n",
    "\n",
    "The **merge** function allows you to merge DataFrames together using a similar logic as merging SQL Tables together. For example:"
   ]
  },
  {
   "cell_type": "code",
   "execution_count": null,
   "metadata": {
    "colab": {},
    "colab_type": "code",
    "id": "0xL-C7G2TXbs"
   },
   "outputs": [],
   "source": [
    "left = pd.DataFrame({'key': ['K0', 'K1', 'K2', 'K3'],\n",
    "                     'A': ['A0', 'A1', 'A2', 'A3'],\n",
    "                     'B': ['B0', 'B1', 'B2', 'B3']})\n",
    "   \n",
    "right = pd.DataFrame({'key': ['K0', 'K1', 'K2', 'K3'],\n",
    "                          'C': ['C0', 'C1', 'C2', 'C3'],\n",
    "                          'D': ['D0', 'D1', 'D2', 'D3']})   "
   ]
  },
  {
   "cell_type": "code",
   "execution_count": null,
   "metadata": {
    "colab": {},
    "colab_type": "code",
    "id": "PuG9bcxYTgwa"
   },
   "outputs": [],
   "source": [
    "pd.merge(left, right, on=['key1', 'key2'])"
   ]
  },
  {
   "cell_type": "markdown",
   "metadata": {
    "colab_type": "text",
    "id": "NBMvIR2vTvjW"
   },
   "source": [
    "### Joining\n",
    "Joining is a convenient method for combining the columns of two potentially differently-indexed DataFrames into a single result DataFrame."
   ]
  },
  {
   "cell_type": "code",
   "execution_count": null,
   "metadata": {
    "colab": {},
    "colab_type": "code",
    "id": "5MIFRKWITkGV"
   },
   "outputs": [],
   "source": [
    "left = pd.DataFrame({'A': ['A0', 'A1', 'A2'],\n",
    "                     'B': ['B0', 'B1', 'B2']},\n",
    "                      index=['K0', 'K1', 'K2']) \n",
    "\n",
    "right = pd.DataFrame({'C': ['C0', 'C2', 'C3'],\n",
    "                    'D': ['D0', 'D2', 'D3']},\n",
    "                      index=['K0', 'K2', 'K3'])"
   ]
  },
  {
   "cell_type": "code",
   "execution_count": null,
   "metadata": {
    "colab": {},
    "colab_type": "code",
    "id": "IQNb9iw_TmBx"
   },
   "outputs": [],
   "source": [
    "left.join(right)"
   ]
  },
  {
   "cell_type": "markdown",
   "metadata": {},
   "source": [
    "We invite you to do some Data-Science-And-Chill. There is a must-see data science movie called ['Moneyball'](https://www.imdb.com/title/tt1210166/?ref_=fn_al_tt_1) starring Brad Pitt, Robin Wright, and Jonah Hill. Watching this movie is not only fun but will also provide some context for the coming 2 weeks' challenges.\n",
    "\n",
    "You can stream the movie via [Amazon Prime](https://www.amazon.com/Moneyball-Brad-Pitt/dp/B006IMY5ZU)!"
   ]
  }
 ],
 "metadata": {
  "accelerator": "GPU",
  "colab": {
   "collapsed_sections": [],
   "name": "Python_Week_2.ipynb",
   "provenance": [
    {
     "file_id": "1F8jYnXStk3I3Q94ozqdEnzVQ0r5i235o",
     "timestamp": 1557560817536
    }
   ],
   "version": "0.3.2"
  },
  "kernelspec": {
   "display_name": "Python 3",
   "language": "python",
   "name": "python3"
  },
  "language_info": {
   "codemirror_mode": {
    "name": "ipython",
    "version": 3
   },
   "file_extension": ".py",
   "mimetype": "text/x-python",
   "name": "python",
   "nbconvert_exporter": "python",
   "pygments_lexer": "ipython3",
   "version": "3.6.6"
  }
 },
 "nbformat": 4,
 "nbformat_minor": 1
}
