{
  "nbformat": 4,
  "nbformat_minor": 0,
  "metadata": {
    "colab": {
      "name": "Python_Week_1.ipynb",
      "provenance": [],
      "collapsed_sections": [
        "VLGQOXoJJkK5",
        "viNZNwHaJkK8",
        "27UJaI72JkLT",
        "zkB4ZnKDJkLm",
        "D7zruVlPJkL3",
        "nfpByLP4ZHMz",
        "MJbHBf3RJkM2",
        "D3c9gQ0sJkNB",
        "50k9tUv9JkOx",
        "mzCGo1vPxuAD"
      ],
      "include_colab_link": true
    },
    "language_info": {
      "codemirror_mode": {
        "name": "ipython",
        "version": 3
      },
      "file_extension": ".py",
      "mimetype": "text/x-python",
      "name": "python",
      "nbconvert_exporter": "python",
      "pygments_lexer": "ipython3",
      "version": "3.6.8"
    },
    "kernelspec": {
      "name": "python3",
      "display_name": "Python 3"
    },
    "accelerator": "GPU"
  },
  "cells": [
    {
      "cell_type": "markdown",
      "metadata": {
        "id": "view-in-github",
        "colab_type": "text"
      },
      "source": [
        "<a href=\"https://colab.research.google.com/github/RotterdamAI/Lovelace_Bootcamp_2/blob/master/Python_Week_1.ipynb\" target=\"_parent\"><img src=\"https://colab.research.google.com/assets/colab-badge.svg\" alt=\"Open In Colab\"/></a>"
      ]
    },
    {
      "cell_type": "markdown",
      "metadata": {
        "id": "ipQQJ7ZdJ9AQ",
        "colab_type": "text"
      },
      "source": [
        "  >>>>>>>>>>  ![alt text](https://city.ai/wp-content/uploads/formidable/13/banner_empty_rotterdam_ai-2.png)\n",
        "\n",
        "-----------------------------------------\n",
        "\n",
        " >>>>>>>>![alt text](https://python.rs/pylogo.png)"
      ]
    },
    {
      "cell_type": "markdown",
      "metadata": {
        "id": "0xys3CQ_JkK4",
        "colab_type": "text"
      },
      "source": [
        "# Week 1\n",
        "\n",
        "**Table of Contents**\n",
        "1. [Introduction to Python](#introduction-to-Python)\n",
        "2. [First Steps](#first-steps)\n",
        "3. [Python Variables and Data types](#python-variables-and-data-types)\n",
        "4. [Python Operations](#python-operations)\n",
        "5. [Strings and their Methods](#strings-and-their-methods)\n",
        "6. [Collections](#collections)\n",
        "8. [Further Reading](#further-reading)\n",
        "9. [More Challenges](#more-challenges)"
      ]
    },
    {
      "cell_type": "markdown",
      "metadata": {
        "id": "VLGQOXoJJkK5",
        "colab_type": "text"
      },
      "source": [
        "<a id='introduction_to_Python'></a>\n",
        "## Introduction To Python"
      ]
    },
    {
      "cell_type": "markdown",
      "metadata": {
        "id": "mBI7mBUBJkK7",
        "colab_type": "text"
      },
      "source": [
        "**Python** is a programming language created by Guido Van Rossum in the late 1980s and is currently the [fastest-growing](https://insights.stackoverflow.com/survey/2019) major programming language.\n",
        "\n",
        "**Python** is Open Source and has a wide variety of applications such as:\n",
        "1. Artificial Intelligence / Machine Learning\n",
        "    - SciPi\n",
        "    - NumPy\n",
        "    - Pandas\n",
        "    - PyTorch\n",
        "2. Hardware and Micro-controllers\n",
        "    - Raspberry Pi\n",
        "    - MicroPython\n",
        "    - CircuitPython\n",
        "3. Web Development\n",
        "    - Django\n",
        "    - Flask\n",
        "4. Scripting\n",
        "    - Dev Ops Configuration scripts\n",
        "5. Mathematics"
      ]
    },
    {
      "cell_type": "markdown",
      "metadata": {
        "id": "viNZNwHaJkK8",
        "colab_type": "text"
      },
      "source": [
        "<a id='first-steps'></a>\n",
        "## First Steps"
      ]
    },
    {
      "cell_type": "markdown",
      "metadata": {
        "id": "iYpBMnXnJkK9",
        "colab_type": "text"
      },
      "source": [
        "**Printing**\n",
        "\n",
        "To print a python script we use the print command: print( )"
      ]
    },
    {
      "cell_type": "code",
      "metadata": {
        "scrolled": true,
        "id": "wTk8EjngJkK-",
        "colab_type": "code",
        "colab": {}
      },
      "source": [
        "print(\"Hello World. I am an awesome python programmer!\")"
      ],
      "execution_count": 0,
      "outputs": []
    },
    {
      "cell_type": "code",
      "metadata": {
        "id": "pVcbJltWJkLE",
        "colab_type": "code",
        "colab": {}
      },
      "source": [
        "print(1234567890)"
      ],
      "execution_count": 0,
      "outputs": []
    },
    {
      "cell_type": "markdown",
      "metadata": {
        "id": "exqiW6V0JkLI",
        "colab_type": "text"
      },
      "source": [
        "**Comments** are complete sentences that are for you or anyone reading your code. Python's interpreter won't process your comments."
      ]
    },
    {
      "cell_type": "code",
      "metadata": {
        "id": "wyu_ShzmJkLJ",
        "colab_type": "code",
        "colab": {}
      },
      "source": [
        "# I am a block comment"
      ],
      "execution_count": 0,
      "outputs": []
    },
    {
      "cell_type": "code",
      "metadata": {
        "scrolled": true,
        "id": "QNLOLaXQJkLN",
        "colab_type": "code",
        "colab": {}
      },
      "source": [
        "\"\"\"\n",
        "I am a docstring. I \n",
        "can be oneline or multiline.\n",
        "Unless I am used as a docstring, I am basically ignored!\n",
        "Check me out!\n",
        "\"\"\"\n",
        "print(10)"
      ],
      "execution_count": 0,
      "outputs": []
    },
    {
      "cell_type": "markdown",
      "metadata": {
        "id": "4F7-oL-cJkLQ",
        "colab_type": "text"
      },
      "source": [
        "Note:\n",
        "[PEP8](https://www.python.org/dev/peps/pep-0008/#block-comments), Python's official style guide, favours using block comments."
      ]
    },
    {
      "cell_type": "code",
      "metadata": {
        "id": "AqI4rfw7xQAI",
        "colab_type": "code",
        "colab": {}
      },
      "source": [
        "#######################################################\n",
        "################### Challenge 1 #######################\n",
        "#######################################################\n",
        "\n",
        "# Print the name of your city"
      ],
      "execution_count": 0,
      "outputs": []
    },
    {
      "cell_type": "markdown",
      "metadata": {
        "id": "27UJaI72JkLT",
        "colab_type": "text"
      },
      "source": [
        "<a id='python-variables-and-data-types'></a>\n",
        "## Python Variables and Data types"
      ]
    },
    {
      "cell_type": "markdown",
      "metadata": {
        "id": "sHWWSt8UJkLU",
        "colab_type": "text"
      },
      "source": [
        "### Variables"
      ]
    },
    {
      "cell_type": "markdown",
      "metadata": {
        "id": "84OYS1kQJkLV",
        "colab_type": "text"
      },
      "source": [
        "Python Variables allow us to store information and give it a label that we can use to retrieve that information later. Unlike other programming languages, Python has no command for declaring a variable."
      ]
    },
    {
      "cell_type": "code",
      "metadata": {
        "scrolled": true,
        "id": "JjpmYugSJkLW",
        "colab_type": "code",
        "colab": {}
      },
      "source": [
        "x = 7\n",
        "y = \"Netherlands\"\n",
        "print(x)\n",
        "print(y)"
      ],
      "execution_count": 0,
      "outputs": []
    },
    {
      "cell_type": "markdown",
      "metadata": {
        "id": "BfPenK-dJkLb",
        "colab_type": "text"
      },
      "source": [
        "Python variables are generally in **lower case** (Snake case) and separated by underscores."
      ]
    },
    {
      "cell_type": "code",
      "metadata": {
        "scrolled": true,
        "id": "ufcb5bkDJkLc",
        "colab_type": "code",
        "colab": {}
      },
      "source": [
        "my_first_name = \"Chidinma\"\n",
        "print(my_first_name)\n",
        "\n",
        "# My_first_name - is wrong!!!!\n",
        "#snake-case: my_first_name\n",
        "#pascal-case : My_First_Name"
      ],
      "execution_count": 0,
      "outputs": []
    },
    {
      "cell_type": "markdown",
      "metadata": {
        "id": "7agypCChJkLk",
        "colab_type": "text"
      },
      "source": [
        "### Data Types"
      ]
    },
    {
      "cell_type": "markdown",
      "metadata": {
        "id": "zkB4ZnKDJkLm",
        "colab_type": "text"
      },
      "source": [
        "#### Numbers"
      ]
    },
    {
      "cell_type": "markdown",
      "metadata": {
        "id": "9sbzOqP2JkLo",
        "colab_type": "text"
      },
      "source": [
        "There are three different types of numbers in Python: **int** for Integer, **Float**, and **Complex**."
      ]
    },
    {
      "cell_type": "code",
      "metadata": {
        "id": "0kccXz-6JkLp",
        "colab_type": "code",
        "colab": {}
      },
      "source": [
        "# These are integers\n",
        "x = 10\n",
        "y = -19\n",
        "z = 0"
      ],
      "execution_count": 0,
      "outputs": []
    },
    {
      "cell_type": "code",
      "metadata": {
        "id": "b_0TBWC9JkLt",
        "colab_type": "code",
        "colab": {}
      },
      "source": [
        "# These are floats\n",
        "x = 3.141592653589793238462643383279502884197169\n",
        "y = -10.223\n",
        "z = 0.1\n",
        "\n",
        "# anything with a ."
      ],
      "execution_count": 0,
      "outputs": []
    },
    {
      "cell_type": "code",
      "metadata": {
        "id": "KTwh4uh2JkLy",
        "colab_type": "code",
        "colab": {}
      },
      "source": [
        "# This is a complex number\n",
        "x = 42j\n",
        "\n",
        "# a + j*b \n",
        "# in Python we use j instead of i"
      ],
      "execution_count": 0,
      "outputs": []
    },
    {
      "cell_type": "markdown",
      "metadata": {
        "id": "D7zruVlPJkL3",
        "colab_type": "text"
      },
      "source": [
        "#### Boolean"
      ]
    },
    {
      "cell_type": "markdown",
      "metadata": {
        "id": "SY2hVN_yJkL3",
        "colab_type": "text"
      },
      "source": [
        "In Python, Booleans are of type bool. Booleans are **True** and **False**"
      ]
    },
    {
      "cell_type": "code",
      "metadata": {
        "scrolled": true,
        "id": "nFcoSwZBJkL4",
        "colab_type": "code",
        "colab": {}
      },
      "source": [
        "x = True\n",
        "print(x)"
      ],
      "execution_count": 0,
      "outputs": []
    },
    {
      "cell_type": "code",
      "metadata": {
        "id": "7_L2O5kQJkL9",
        "colab_type": "code",
        "colab": {}
      },
      "source": [
        "y = False\n",
        "print(y)"
      ],
      "execution_count": 0,
      "outputs": []
    },
    {
      "cell_type": "markdown",
      "metadata": {
        "id": "9efSgZ8uJkMA",
        "colab_type": "text"
      },
      "source": [
        "Surprisingly, the boolean types True and False are also numbers under the hood. So we can actually do things like add or subtract. We'll see this later in this lesson.\n",
        "\n",
        "* True is 1 under the hood.\n",
        "* False is 0 under the hood."
      ]
    },
    {
      "cell_type": "markdown",
      "metadata": {
        "id": "nfpByLP4ZHMz",
        "colab_type": "text"
      },
      "source": [
        "#### None"
      ]
    },
    {
      "cell_type": "markdown",
      "metadata": {
        "id": "IJTG0r3QZNEp",
        "colab_type": "text"
      },
      "source": [
        "There’s a special type in Python that signifies no value at all.\n",
        "It's called **None**."
      ]
    },
    {
      "cell_type": "code",
      "metadata": {
        "id": "QPyWOGPmZ1zl",
        "colab_type": "code",
        "colab": {}
      },
      "source": [
        "x = None\n",
        "print(x)"
      ],
      "execution_count": 0,
      "outputs": []
    },
    {
      "cell_type": "markdown",
      "metadata": {
        "id": "eWItCyZqJkMC",
        "colab_type": "text"
      },
      "source": [
        "#### Strings"
      ]
    },
    {
      "cell_type": "markdown",
      "metadata": {
        "id": "SI7cBTCyJkME",
        "colab_type": "text"
      },
      "source": [
        "Strings in python are surrounded by either single quotation marks, or double quotation marks."
      ]
    },
    {
      "cell_type": "code",
      "metadata": {
        "scrolled": false,
        "id": "pCbdByAvJkMG",
        "colab_type": "code",
        "colab": {}
      },
      "source": [
        "x = 'hello'\n",
        "y = \"hello\"\n",
        "print(x)\n",
        "print(y)"
      ],
      "execution_count": 0,
      "outputs": []
    },
    {
      "cell_type": "markdown",
      "metadata": {
        "id": "pkEeDByMJkML",
        "colab_type": "text"
      },
      "source": [
        "**Concatenating Strings**\n",
        "\n",
        "Strings can be concatenated using **'+'**"
      ]
    },
    {
      "cell_type": "code",
      "metadata": {
        "id": "b7JfWMerJkMO",
        "colab_type": "code",
        "colab": {}
      },
      "source": [
        "salutation = \"Hello\"\n",
        "first_name = \"Max\"\n",
        "last_name = \"James\"\n",
        "greeting = salutation + first_name + last_name\n",
        "print(greeting)\n",
        "\n"
      ],
      "execution_count": 0,
      "outputs": []
    },
    {
      "cell_type": "code",
      "metadata": {
        "id": "AzA-IrtBJkMU",
        "colab_type": "code",
        "colab": {}
      },
      "source": [
        "greeting = salutation + \", \" + first_name + \" \" + last_name + \"! \" + \"It's nice to finally meet you.\"\n",
        "print(greeting)"
      ],
      "execution_count": 0,
      "outputs": []
    },
    {
      "cell_type": "markdown",
      "metadata": {
        "id": "tDeykMVuJkMb",
        "colab_type": "text"
      },
      "source": [
        "To use the same type of quote within a string, that quote needs to be escaped with a \\ - backwards slash."
      ]
    },
    {
      "cell_type": "code",
      "metadata": {
        "id": "hSq42cgpJkMd",
        "colab_type": "code",
        "colab": {}
      },
      "source": [
        "reminder = 'It\\'s my mom\\'s birthday tomorrow'\n",
        "print(reminder)"
      ],
      "execution_count": 0,
      "outputs": []
    },
    {
      "cell_type": "markdown",
      "metadata": {
        "id": "G_Zk3BAhJkMg",
        "colab_type": "text"
      },
      "source": [
        "Mixed quotes can be used instead in a Python string without escaping."
      ]
    },
    {
      "cell_type": "code",
      "metadata": {
        "scrolled": true,
        "id": "BS4TvHDTJkMh",
        "colab_type": "code",
        "colab": {}
      },
      "source": [
        "reminder = \"It's my mom's birthday tomorrow\"\n",
        "print(reminder)"
      ],
      "execution_count": 0,
      "outputs": []
    },
    {
      "cell_type": "markdown",
      "metadata": {
        "id": "dZCoCjUOJkMl",
        "colab_type": "text"
      },
      "source": [
        "**Common String Errors**"
      ]
    },
    {
      "cell_type": "code",
      "metadata": {
        "scrolled": true,
        "id": "7PoMgK2hJkMm",
        "colab_type": "code",
        "colab": {}
      },
      "source": [
        "#######################################################\n",
        "################### Challenge 2 #######################\n",
        "#######################################################\n",
        "\n",
        "# Come up with possible solutions for the error below\n",
        "error1 = \"family\" + 3\n",
        "print(error1)\n",
        "\n",
        "x = \"3\"\n",
        "error2 = family + x\n",
        "print(error2)\n"
      ],
      "execution_count": 0,
      "outputs": []
    },
    {
      "cell_type": "code",
      "metadata": {
        "id": "73vcQRIdxsRd",
        "colab_type": "code",
        "colab": {}
      },
      "source": [
        "#######################################################\n",
        "################### Challenge 3 #######################\n",
        "#######################################################\n",
        "\n",
        "# Come up with possible solutions for the error below\n",
        "error2 = \"I love my family'\n",
        "print(error2)"
      ],
      "execution_count": 0,
      "outputs": []
    },
    {
      "cell_type": "markdown",
      "metadata": {
        "id": "gEadrR9FJkMy",
        "colab_type": "text"
      },
      "source": [
        "<details>\n",
        "<summary><b>Pro Tip</b> (Click to Expand)</summary>\n",
        "You can find out the data type by using Python's built in function, type(). __type()__ tells you what an object’s type is, for example a string (str) or integer (int).\n",
        "</details>"
      ]
    },
    {
      "cell_type": "code",
      "metadata": {
        "id": "rSqe5JINOKws",
        "colab_type": "code",
        "colab": {}
      },
      "source": [
        "pi = 3.14\n",
        "print(\"pi: \", type(pi))"
      ],
      "execution_count": 0,
      "outputs": []
    },
    {
      "cell_type": "code",
      "metadata": {
        "id": "OWyUOemjJkMz",
        "colab_type": "code",
        "colab": {}
      },
      "source": [
        "p = \"Python\"\n",
        "q = 22\n",
        "print(\"p: \", type(p))\n",
        "print(\"q: \", type(q))"
      ],
      "execution_count": 0,
      "outputs": []
    },
    {
      "cell_type": "markdown",
      "metadata": {
        "id": "MJbHBf3RJkM2",
        "colab_type": "text"
      },
      "source": [
        "#### Casting"
      ]
    },
    {
      "cell_type": "code",
      "metadata": {
        "id": "GLxG-WzgJkM4",
        "colab_type": "code",
        "colab": {}
      },
      "source": [
        "x = str(9)\n",
        "print(x)"
      ],
      "execution_count": 0,
      "outputs": []
    },
    {
      "cell_type": "code",
      "metadata": {
        "id": "Q6MciQgyO_8k",
        "colab_type": "code",
        "colab": {}
      },
      "source": [
        "x = '5'\n",
        "y = int(x)\n",
        "print(y)"
      ],
      "execution_count": 0,
      "outputs": []
    },
    {
      "cell_type": "markdown",
      "metadata": {
        "id": "pexGoy4pJkM8",
        "colab_type": "text"
      },
      "source": [
        "### **Note:**\n",
        "1. Python Variables can't start with a number.\n",
        "Python Variables must start with a letter or the underscore character.\n",
        "2. Variable names can't contain special characters such as '!', '@', '#', '$', '%'.\n",
        "3. Your Python variables shouldn't be named 'and', 'if', 'while', 'True', 'False' because Python uses these names for program control structure. \n",
        "4. Don't give your variables the same name as our data types. For example: Don't name your variable int, dict, list, str, etc.\n",
        "Variable names are case sensitive. For example: King, king and KING are different variable names. Please beware."
      ]
    },
    {
      "cell_type": "markdown",
      "metadata": {
        "id": "D3c9gQ0sJkNB",
        "colab_type": "text"
      },
      "source": [
        "<a id='python-operations'></a>\n",
        "## Python Operations"
      ]
    },
    {
      "cell_type": "markdown",
      "metadata": {
        "id": "X0QfDR2IJkNC",
        "colab_type": "text"
      },
      "source": [
        "**Arithmetic Operators**\n",
        "1. Addition +\n",
        "2. Subtraction -\n",
        "3. Multiplication *\n",
        "4. Division /\n",
        "5. Floor division //\n",
        "6. Modulus (remainder) %\n",
        "7. Exponentiation **\n",
        "8. Matrix multiplication @"
      ]
    },
    {
      "cell_type": "code",
      "metadata": {
        "scrolled": true,
        "id": "R6MRAYugJkND",
        "colab_type": "code",
        "colab": {}
      },
      "source": [
        "s = 3 + 5\n",
        "q = 5 - 3\n",
        "w = 3 * 4\n",
        "e = 13 / 2\n",
        "f = 20 // 3\n",
        "t = 21 % 3 # modulo used to check if a number is odd(not dividing to 2) or even\n",
        "y = 2 ** 3\n",
        "\n",
        "print(s)\n",
        "print(q)\n",
        "print(w)\n",
        "print(e)\n",
        "print(f)\n",
        "print(t)\n",
        "print(y)"
      ],
      "execution_count": 0,
      "outputs": []
    },
    {
      "cell_type": "code",
      "metadata": {
        "id": "bGX0e8WOTf8Q",
        "colab_type": "code",
        "colab": {}
      },
      "source": [
        "round(20/3)"
      ],
      "execution_count": 0,
      "outputs": []
    },
    {
      "cell_type": "code",
      "metadata": {
        "id": "84ZpYXkeJkNH",
        "colab_type": "code",
        "colab": {}
      },
      "source": [
        "#######################################################\n",
        "################### Challenge 4 #######################\n",
        "#######################################################\n",
        "\n",
        "# Rewrite the code so that it accepts user input height and weight and uses that to calculate the BMI.\n",
        "height = 1.74\n",
        "weight = 80\n",
        "\n",
        "bmi = float(weight) / (height) ** 2\n",
        "\n",
        "print(\"BMI is: \" + str(bmi))"
      ],
      "execution_count": 0,
      "outputs": []
    },
    {
      "cell_type": "markdown",
      "metadata": {
        "id": "-B-eZ-hkJkNK",
        "colab_type": "text"
      },
      "source": [
        "**In-Place Operations**"
      ]
    },
    {
      "cell_type": "code",
      "metadata": {
        "id": "zXaqkDEqJkNL",
        "colab_type": "code",
        "colab": {}
      },
      "source": [
        "# *=\n",
        "x = 10\n",
        "x *= 2 # this is the same with x = x * 2\n",
        "print(x) # x = 20\n",
        "\n",
        "# +=\n",
        "x += 4 # this is the same with : x = x + 4\n",
        "print(x) # x = 24\n",
        "\n",
        "# -=\n",
        "x -= 1 # this is the same with : x = x -1\n",
        "print(x) # x = 23\n",
        "\n",
        "# /=\n",
        "x /= 5 # this is the same with : x = x / 5\n",
        "print(x) # x = 4.6"
      ],
      "execution_count": 0,
      "outputs": []
    },
    {
      "cell_type": "markdown",
      "metadata": {
        "id": "jxzf5KyBJkNR",
        "colab_type": "text"
      },
      "source": [
        "**Comparison Operators**\n",
        "1. Equal ==\n",
        "2. Not equal !=\n",
        "3. Greater than >\n",
        "4. Less than <\n",
        "5. Greater than or equal to >=\n",
        "6. Less than or equal to <="
      ]
    },
    {
      "cell_type": "code",
      "metadata": {
        "id": "BYN-o346JkNS",
        "colab_type": "code",
        "colab": {}
      },
      "source": [
        "# a > b\n",
        "# a < b\n",
        "# a >= b\n",
        "# a <= b\n",
        "\n",
        "a = 10\n",
        "b = 4.5\n",
        "\n",
        "print(type(a) == type(b))\n",
        "print(type(a))\n",
        "print(type(b))\n",
        "print(type(a) == int)"
      ],
      "execution_count": 0,
      "outputs": []
    },
    {
      "cell_type": "markdown",
      "metadata": {
        "id": "Ihmw-Ss0JkNW",
        "colab_type": "text"
      },
      "source": [
        "**Logical Operators**\n",
        "1. and\n",
        "2. or\n",
        "3. not"
      ]
    },
    {
      "cell_type": "code",
      "metadata": {
        "id": "oc18t9C3JkNX",
        "colab_type": "code",
        "colab": {}
      },
      "source": [
        "a = 5\n",
        "b = 6\n",
        "print((a == 5) and (b == 6))\n",
        "print(4 <= a <= 6) # in this case: false or true -> true\n",
        "\n",
        "x = True\n",
        "print(not(x))"
      ],
      "execution_count": 0,
      "outputs": []
    },
    {
      "cell_type": "markdown",
      "metadata": {
        "id": "P5YiOg1mJkNb",
        "colab_type": "text"
      },
      "source": [
        "Python has other operators such as the **Bitwise**, **Membership** and **Identity** Operators."
      ]
    },
    {
      "cell_type": "markdown",
      "metadata": {
        "id": "QSQXKzvGJkNc",
        "colab_type": "text"
      },
      "source": [
        "**TODO:**\n",
        "1. Calculate your daily expenses, by taking your monthly expenses and diving it by 30. Given that your monthly expenses is €800.\n",
        "2. What is the value of a in \"a = -1 ** 2\"?\n",
        "3. What is the value of b in \"b = 99 >= 3**4 and 70 == 7 * 10 or 12 != 3 * 4\"?\n",
        "4. Accept a number from a user, print whether it is divisible by ten and greater than hundred."
      ]
    },
    {
      "cell_type": "code",
      "metadata": {
        "id": "pPDyc8AOySEu",
        "colab_type": "code",
        "colab": {}
      },
      "source": [
        "#######################################################\n",
        "################### Challenge 5 #######################\n",
        "#######################################################\n",
        "\n",
        "# 1.Calculate your daily expenses, by taking your monthly expenses and diving it by 30. Given that your monthly expenses is €800.\n",
        "# 2. What is the value of a in \"a = -1 ** 2\"?\n",
        "# 3. What is the value of b in \"b = 99 >= 3*4 and 70 == 7 * 10 or 12 != 3 * 4\"?\n",
        "# 4. Accept a number from a user, print whether it is divisible by ten and greater than hundred.\n",
        "\n",
        "daily_expenses = 800 / 30\n",
        "print('Our daily expenses are on average =', daily_expenses)\n",
        "\n",
        "a = -1 ** 2\n",
        "print(\"the value of -1 ** 2 =\", a)\n",
        "\n",
        "b = 99 >= 3 * 4 and 70 == 7 * 10 or 12 != 3 * 4\n",
        "print(\"the value of 99 >= 3 * 4 and 70 == 7 * 10 or 12 != 3 * 4 =\", b)\n",
        "\n",
        "user_input = float(input())\n",
        "c = user_input % 10 == 0 and user_input > 100\n",
        "print('We conclude that the input provided by the user is divisible by ten and greater than hundred as', c)"
      ],
      "execution_count": 0,
      "outputs": []
    },
    {
      "cell_type": "markdown",
      "metadata": {
        "id": "ojDpNbmAJkNc",
        "colab_type": "text"
      },
      "source": [
        "<a id='strings-and-their-methods'></a>\n",
        "## Strings & their Methods"
      ]
    },
    {
      "cell_type": "markdown",
      "metadata": {
        "id": "MDDmxw58JkNd",
        "colab_type": "text"
      },
      "source": [
        "A method is a function that is specific to a certain \"object\" in Python. Python has a set of built-in methods that you can use on strings."
      ]
    },
    {
      "cell_type": "code",
      "metadata": {
        "id": "pdgCDgrAJkNe",
        "colab_type": "code",
        "colab": {}
      },
      "source": [
        "var = \"lovelace bootcamp\"\n",
        "upper_var = var.upper() \n",
        "lower_var = var.lower()\n",
        "capital_var = var.capitalize()\n",
        "title_var = var.title()\n",
        "swapcase_var = var.swapcase()\n",
        "replace_var = var.replace('l', 'r')\n",
        "\n",
        "print(replace_var)"
      ],
      "execution_count": 0,
      "outputs": []
    },
    {
      "cell_type": "markdown",
      "metadata": {
        "id": "Lz3eO_pv04nO",
        "colab_type": "text"
      },
      "source": [
        "Length of a words/ sentence or a paragraph can be calculated by simply calling the built-in function len() -> which in fact gives the number of characters."
      ]
    },
    {
      "cell_type": "code",
      "metadata": {
        "id": "2lsT4KmG1JUI",
        "colab_type": "code",
        "colab": {}
      },
      "source": [
        "# len(str) is the number of chars in a String\n",
        "# len('I am excited to code in Python. This is awesome!')\n",
        "\n",
        "# len('this          has             a            lot         of           spaces')\n",
        "\n",
        "# len('this                                                                      ')\n",
        "print(len('a           '))"
      ],
      "execution_count": 0,
      "outputs": []
    },
    {
      "cell_type": "code",
      "metadata": {
        "id": "PxNM8CHv1msi",
        "colab_type": "code",
        "colab": {}
      },
      "source": [
        "# str[i:j] extracts the substring starting at index i and running up to but not including index j.\n",
        "\n",
        "var = 'lovelace bootcamp'\n",
        "print(var[0:4])\n",
        "# var[:4] # is the same with var[0:4] and is called slicing: slicing forward or slicing backwards\n",
        "# start at index 1 and stops before 4 \n",
        "\n",
        "# reversing the string\n",
        "# var[::-1] \n",
        "\n",
        "# check if strings have methods to reverse in Python docs\n",
        "\n",
        "x = 'cuphjgusdhgusdicjdsolncjlsfnvsgfyvsjkxnck;amdojfndjnjdbcvnjbhb'\n",
        "# x[-4]"
      ],
      "execution_count": 0,
      "outputs": []
    },
    {
      "cell_type": "markdown",
      "metadata": {
        "id": "AMGxeb-OJkNh",
        "colab_type": "text"
      },
      "source": [
        "Read More: [String Methods](https://docs.python.org/3/library/stdtypes.html#string-methods)"
      ]
    },
    {
      "cell_type": "markdown",
      "metadata": {
        "id": "ADxAjKsNJkNi",
        "colab_type": "text"
      },
      "source": [
        "**TODO:**\n",
        "1. Take a user input, convert the first character of each word to upper case, split the string every whitespace and join all the strings with a plus character (+)"
      ]
    },
    {
      "cell_type": "code",
      "metadata": {
        "id": "cLbLsLk9yjv0",
        "colab_type": "code",
        "colab": {}
      },
      "source": [
        "#######################################################\n",
        "################### Challenge 6 #######################\n",
        "#######################################################\n",
        "\n",
        "# Take a user input, convert the first character of each word to upper case,\n",
        "# split the string every whitespace and join all the strings with a plus character (+)\n"
      ],
      "execution_count": 0,
      "outputs": []
    },
    {
      "cell_type": "markdown",
      "metadata": {
        "id": "hGwG7xokJkNj",
        "colab_type": "text"
      },
      "source": [
        "<a id='collections'></a>\n",
        "## Collections - Lists, Tuples, Sets, & Dictionaries"
      ]
    },
    {
      "cell_type": "markdown",
      "metadata": {
        "id": "LMVG7a69JkNk",
        "colab_type": "text"
      },
      "source": [
        "#### Lists"
      ]
    },
    {
      "cell_type": "markdown",
      "metadata": {
        "id": "ktoVJErGJkNk",
        "colab_type": "text"
      },
      "source": [
        "**Lists** are one of the most powerful data types in Python. Lists are used for storing similar items, and in cases where items need to be added or removed. Lists are ***mutable***.\n",
        "An empty list can be created in 2 ways:\n",
        "1. By calling the list method list()\n",
        "2. By writing 2 empty brackets []"
      ]
    },
    {
      "cell_type": "code",
      "metadata": {
        "id": "drRwJS9IJkNm",
        "colab_type": "code",
        "colab": {}
      },
      "source": [
        "list_1 = [1,2,3]\n",
        "list_2 = list(list_1)\n",
        "print(list_2)"
      ],
      "execution_count": 0,
      "outputs": []
    },
    {
      "cell_type": "code",
      "metadata": {
        "id": "1SsTEVgkcvIb",
        "colab_type": "code",
        "colab": {}
      },
      "source": [
        "# Searching a list\n",
        "my_hobby_list = [\"cooking\", \"travelling\", \"teaching\"]\n",
        "print(\"cooking\" in my_hobby_list)"
      ],
      "execution_count": 0,
      "outputs": []
    },
    {
      "cell_type": "code",
      "metadata": {
        "id": "U03D2L8Ncy50",
        "colab_type": "code",
        "colab": {}
      },
      "source": [
        "# appending to list (add to the end)\n",
        "my_hobby_list.append(\"dancing\")\n",
        "print(my_hobby_list) "
      ],
      "execution_count": 0,
      "outputs": []
    },
    {
      "cell_type": "code",
      "metadata": {
        "id": "wHLuxTgic23k",
        "colab_type": "code",
        "colab": {}
      },
      "source": [
        "# inserting an item to a particular position in a list .insert(position, item)\n",
        "my_hobby_list.insert(2, \"sleeping\")\n",
        "print(my_hobby_list) "
      ],
      "execution_count": 0,
      "outputs": []
    },
    {
      "cell_type": "code",
      "metadata": {
        "id": "WuJfynZ9c2lL",
        "colab_type": "code",
        "colab": {}
      },
      "source": [
        "# accessing items by index\n",
        "print(my_hobby_list[0])"
      ],
      "execution_count": 0,
      "outputs": []
    },
    {
      "cell_type": "code",
      "metadata": {
        "id": "4nawBoV6c-JM",
        "colab_type": "code",
        "colab": {}
      },
      "source": [
        "# mutability >lists are mutable\n",
        "my_hobby_list[0] = \"eating\"\n",
        "print(my_hobby_list)"
      ],
      "execution_count": 0,
      "outputs": []
    },
    {
      "cell_type": "code",
      "metadata": {
        "id": "Jwt8XM40c_yn",
        "colab_type": "code",
        "colab": {}
      },
      "source": [
        "# sorting a list\n",
        "my_hobby_list.sort() # from A to Z\n",
        "print(my_hobby_list)"
      ],
      "execution_count": 0,
      "outputs": []
    },
    {
      "cell_type": "code",
      "metadata": {
        "id": "sRApIoNsc_nq",
        "colab_type": "code",
        "colab": {}
      },
      "source": [
        "# reversing a list\n",
        "my_hobby_list.reverse() # from Z to A\n",
        "print(my_hobby_list)"
      ],
      "execution_count": 0,
      "outputs": []
    },
    {
      "cell_type": "code",
      "metadata": {
        "id": "Q4uPhqzudCkj",
        "colab_type": "code",
        "colab": {}
      },
      "source": [
        "# arranging a list in descending order\n",
        "my_hobby_list.sort(reverse = True)\n",
        "print(my_hobby_list)"
      ],
      "execution_count": 0,
      "outputs": []
    },
    {
      "cell_type": "code",
      "metadata": {
        "id": "4FiXRgxLdEBQ",
        "colab_type": "code",
        "colab": {}
      },
      "source": [
        "# add items from another list (extend)\n",
        "my_new_hobbies = [\"Knitting\", \"Singing\"]\n",
        "my_hobby_list.extend(my_new_hobbies)\n",
        "print(my_hobby_list)"
      ],
      "execution_count": 0,
      "outputs": []
    },
    {
      "cell_type": "code",
      "metadata": {
        "id": "Q7xDBVLMdF4V",
        "colab_type": "code",
        "colab": {}
      },
      "source": [
        "# remove an item\n",
        "my_hobby_list.remove(\"eating\")\n",
        "print(my_hobby_list)"
      ],
      "execution_count": 0,
      "outputs": []
    },
    {
      "cell_type": "code",
      "metadata": {
        "id": "lsJI1-9pdS-C",
        "colab_type": "code",
        "colab": {}
      },
      "source": [
        "# remove an item from the last position\n",
        "my_hobby_list.pop()\n",
        "print(my_hobby_list)"
      ],
      "execution_count": 0,
      "outputs": []
    },
    {
      "cell_type": "code",
      "metadata": {
        "id": "j3FCAiS5dTmp",
        "colab_type": "code",
        "colab": {}
      },
      "source": [
        "# remove an item from a particular index\n",
        "my_hobby_list.pop(2)\n",
        "print(my_hobby_list)"
      ],
      "execution_count": 0,
      "outputs": []
    },
    {
      "cell_type": "markdown",
      "metadata": {
        "id": "akcx5kPQJkNu",
        "colab_type": "text"
      },
      "source": [
        "**Common List Errors**"
      ]
    },
    {
      "cell_type": "code",
      "metadata": {
        "id": "jnGD0DRYJkN3",
        "colab_type": "code",
        "colab": {}
      },
      "source": [
        "# forgetting to use commas appropriately\n",
        "first_names = [\"Jane\", \"Alex\" \"Sandra\"]\n",
        "print(first_names)"
      ],
      "execution_count": 0,
      "outputs": []
    },
    {
      "cell_type": "markdown",
      "metadata": {
        "id": "NDjiGjpEJkN8",
        "colab_type": "text"
      },
      "source": [
        "<details>\n",
        "<summary><b>Pro Tip</b> (Click to Expand)</summary>\n",
        "To find out the built in methods for strings, lists, tuples, sets and dictionaries by typing dir(). dir() returns a list of valid attributes for an object, so you can quickly see what variables an object has or what functions you can call on it. Ignore the methods that start with underscores. \n",
        "    \n",
        "help() brings up helpful documentation on any object. You can also type help() on its own to bring an interactive help console.\n",
        "</details>"
      ]
    },
    {
      "cell_type": "code",
      "metadata": {
        "id": "M87PqReQyw0T",
        "colab_type": "code",
        "colab": {}
      },
      "source": [
        "#######################################################\n",
        "################### Challenge 7 #######################\n",
        "#######################################################\n",
        "\n",
        "# Print out the built in functions for lists."
      ],
      "execution_count": 0,
      "outputs": []
    },
    {
      "cell_type": "markdown",
      "metadata": {
        "id": "vO9NvpALJkN9",
        "colab_type": "text"
      },
      "source": [
        "#### Tuples"
      ]
    },
    {
      "cell_type": "markdown",
      "metadata": {
        "id": "2Xn7bdSPJkN-",
        "colab_type": "text"
      },
      "source": [
        "**Tuple** is a list that is ***immutable***. It is used for storing a snapshot of related items when we don’t plan on modifying, adding, or removing data. Tuples can be used in other types of containers like sets and dictionaries\n",
        "Remember that because Tuples are immutable,\n",
        "1. we can’t add or remove from tuples and\n",
        "2. we can't sort tuples"
      ]
    },
    {
      "cell_type": "code",
      "metadata": {
        "id": "qs6j8XQjJkN_",
        "colab_type": "code",
        "colab": {}
      },
      "source": [
        "# Create a new tuple\n",
        "my_tuple = ()\n",
        "my_other_tuple = tuple()\n",
        "\n",
        "student_tuple = (\"Victoria\", 24, \"Computer Science major\", 4.5)\n",
        "# accessing by index\n",
        "print(student_tuple[2])\n",
        "\n",
        "# reassigning tuples will result in an error\n",
        "# student_tuple[2] = \"Maths major\"\n",
        "# print(student_tuple)\n",
        "\n",
        "# Tuple Unpacking\n",
        "student_tuple = (\"Victoria\", 24, \"Computer Science major\", 4.5)\n",
        "name, age, dept, grade = student_tuple\n",
        "print(name, age, dept, grade)"
      ],
      "execution_count": 0,
      "outputs": []
    },
    {
      "cell_type": "markdown",
      "metadata": {
        "id": "u_9n8hFZJkOG",
        "colab_type": "text"
      },
      "source": [
        "#### Sets"
      ]
    },
    {
      "cell_type": "markdown",
      "metadata": {
        "id": "EvbCO4gNJkOI",
        "colab_type": "text"
      },
      "source": [
        "Sets are a datatype that allows you to store other immutable types in an unordered way. Sets ensure that there are no duplicates and all items are unique."
      ]
    },
    {
      "cell_type": "code",
      "metadata": {
        "scrolled": true,
        "id": "_OdQhzWMJkOJ",
        "colab_type": "code",
        "colab": {}
      },
      "source": [
        "# Create a new set\n",
        "my_set = set()\n",
        "\n",
        "farming_set = {\"tractor\", \"plants\", \"water\", \"sunlight\", \"plants\", \"water\", \"cutlass\"}\n",
        "print(farming_set) #notice that all duplicates are gone\n",
        "\n",
        "# Also notice that sets don't have an order\n",
        "\n",
        "# add to a set\n",
        "farming_set.add(\"harvesters\")\n",
        "print(farming_set)\n",
        "\n",
        "# remove from a set\n",
        "farming_set.discard(\"cutlass\")\n",
        "print(farming_set)\n",
        "\n",
        "# update a set with another set\n",
        "other_farming_set = {\"sprayer\", \"mower\"}\n",
        "farming_set.update(other_farming_set)\n",
        "print(farming_set)"
      ],
      "execution_count": 0,
      "outputs": []
    },
    {
      "cell_type": "markdown",
      "metadata": {
        "id": "-UrxKd5UJkOQ",
        "colab_type": "text"
      },
      "source": [
        "**Common Set Errors**"
      ]
    },
    {
      "cell_type": "code",
      "metadata": {
        "id": "E3bXq74VJkOR",
        "colab_type": "code",
        "colab": {}
      },
      "source": [
        "# 1. Using mutable data types will result in an error\n",
        "friends = {\"max\", \"john\", \"doe\", [\"ana\", \"loes\"]}\n",
        "print(friends)"
      ],
      "execution_count": 0,
      "outputs": []
    },
    {
      "cell_type": "code",
      "metadata": {
        "scrolled": true,
        "id": "BJess55gJkOU",
        "colab_type": "code",
        "colab": {}
      },
      "source": [
        "# Trying to access set items by index will result in an error\n",
        "print(farming_set[2])"
      ],
      "execution_count": 0,
      "outputs": []
    },
    {
      "cell_type": "code",
      "metadata": {
        "id": "08obTTPSJkOY",
        "colab_type": "code",
        "colab": {}
      },
      "source": [
        "# updating a set with a string will give you results you might not be expecting.\n",
        "farming_set.update(\"farm robots\")\n",
        "print(farming_set)"
      ],
      "execution_count": 0,
      "outputs": []
    },
    {
      "cell_type": "markdown",
      "metadata": {
        "id": "2jzKzqOhJkOe",
        "colab_type": "text"
      },
      "source": [
        "#### Dictionaries"
      ]
    },
    {
      "cell_type": "markdown",
      "metadata": {
        "id": "pC0qU3KaJkOf",
        "colab_type": "text"
      },
      "source": [
        "Dictionary is used for storing data in key, value pairs. Keys used must be immutable data types."
      ]
    },
    {
      "cell_type": "code",
      "metadata": {
        "id": "SEBfGgglfSUG",
        "colab_type": "code",
        "colab": {}
      },
      "source": [
        "# Create a new empty dictionary\n",
        "my_dict = {}\n",
        "my_other_dict = dict()"
      ],
      "execution_count": 0,
      "outputs": []
    },
    {
      "cell_type": "code",
      "metadata": {
        "id": "Na0byS-bfUWk",
        "colab_type": "code",
        "colab": {}
      },
      "source": [
        "my_fitness_dict = {1: \"football\", 2: \"cricket\", 3: \"table tennis\", 4: \"volleyball\"}\n",
        "print(my_fitness_dict)"
      ],
      "execution_count": 0,
      "outputs": []
    },
    {
      "cell_type": "code",
      "metadata": {
        "id": "8Op6NfISfUN9",
        "colab_type": "code",
        "colab": {}
      },
      "source": [
        "# search for a key in the dictionary\n",
        "print(1 in my_fitness_dict)"
      ],
      "execution_count": 0,
      "outputs": []
    },
    {
      "cell_type": "code",
      "metadata": {
        "id": "TXqh3HiEfUFF",
        "colab_type": "code",
        "colab": {}
      },
      "source": [
        "# get the items in a dictionary\n",
        "print(my_fitness_dict.items())"
      ],
      "execution_count": 0,
      "outputs": []
    },
    {
      "cell_type": "code",
      "metadata": {
        "id": "nZXm5tZ-fT8H",
        "colab_type": "code",
        "colab": {}
      },
      "source": [
        "# get the keys in a dictionary\n",
        "print(my_fitness_dict.keys())"
      ],
      "execution_count": 0,
      "outputs": []
    },
    {
      "cell_type": "code",
      "metadata": {
        "id": "RpNoqn2gfTxx",
        "colab_type": "code",
        "colab": {}
      },
      "source": [
        "# get the values in a dictionary\n",
        "print(my_fitness_dict.values())"
      ],
      "execution_count": 0,
      "outputs": []
    },
    {
      "cell_type": "code",
      "metadata": {
        "id": "D7hWihGxfkPz",
        "colab_type": "code",
        "colab": {}
      },
      "source": [
        "# add to a dictionary using the square notation\n",
        "my_fitness_dict[5] = \"hockey\"\n",
        "print(my_fitness_dict)"
      ],
      "execution_count": 0,
      "outputs": []
    },
    {
      "cell_type": "code",
      "metadata": {
        "id": "_mmfkAqBfoWZ",
        "colab_type": "code",
        "colab": {}
      },
      "source": [
        "# updating a dictionary with another dictionary\n",
        "new_fitness_dict = {6: \"basketball\", 7: \"baseball\"}\n",
        "my_fitness_dict.update(new_fitness_dict)\n",
        "print(my_fitness_dict)"
      ],
      "execution_count": 0,
      "outputs": []
    },
    {
      "cell_type": "markdown",
      "metadata": {
        "id": "4QNTyg0yJkOk",
        "colab_type": "text"
      },
      "source": [
        "**Common Dictionary Errors**"
      ]
    },
    {
      "cell_type": "code",
      "metadata": {
        "scrolled": true,
        "id": "5hXqmeMBJkOl",
        "colab_type": "code",
        "colab": {}
      },
      "source": [
        "# trying to access an item by index\n",
        "students = {\"Jane\": \"History\", \"Ada\": \"Biology\", \"William\":\"Political Science\"}\n",
        "print(students[3])"
      ],
      "execution_count": 0,
      "outputs": []
    },
    {
      "cell_type": "code",
      "metadata": {
        "id": "GTV_duLbJkOr",
        "colab_type": "code",
        "colab": {}
      },
      "source": [
        "# Using a mutable data type as a key\n",
        "new_students = {\"Emma\": \"Chemistry\", [\"Ava\", \"Logan\"]: \"Physics\"}\n",
        "print(new_students)"
      ],
      "execution_count": 0,
      "outputs": []
    },
    {
      "cell_type": "markdown",
      "metadata": {
        "id": "50k9tUv9JkOx",
        "colab_type": "text"
      },
      "source": [
        "<a id='further-reading'></a>\n",
        "## For Further Reading:"
      ]
    },
    {
      "cell_type": "markdown",
      "metadata": {
        "id": "b8My3tchJkOx",
        "colab_type": "text"
      },
      "source": [
        "- [Python Official Documentation](https://docs.python.org/3/)\n",
        "- [Python Wiki](https://wiki.python.org/moin/FrontPage)\n",
        "- [W3Schools](https://www.w3schools.com/python/)\n",
        "- [Jupyter Tips & Tricks 1](https://medium.com/ibm-data-science-experience/markdown-for-jupyter-notebooks-cheatsheet-386c05aeebed)\n",
        "- [Jupyter Tips & Tricks 2](https://www.dataquest.io/blog/jupyter-notebook-tips-tricks-shortcuts/)"
      ]
    },
    {
      "cell_type": "markdown",
      "metadata": {
        "id": "mzCGo1vPxuAD",
        "colab_type": "text"
      },
      "source": [
        "<a id='more-challenges'></a>\n",
        "## More challenges"
      ]
    },
    {
      "cell_type": "code",
      "metadata": {
        "id": "esDP0K2qx1rK",
        "colab_type": "code",
        "colab": {}
      },
      "source": [
        "#######################################################\n",
        "################### Challenge 9 #######################\n",
        "#######################################################\n",
        "\n",
        "# Given a string of even length, return the first half. For example, if the string is given as \"WooHoo\" this will yield \"Woo\".\n",
        "string = 'WooHoo'"
      ],
      "execution_count": 0,
      "outputs": []
    },
    {
      "cell_type": "code",
      "metadata": {
        "id": "E0NaFvDfx4fG",
        "colab_type": "code",
        "colab": {}
      },
      "source": [
        "#######################################################\n",
        "################### Challenge 10#######################\n",
        "#######################################################\n",
        "\n",
        "# Sort a list of numbers from smallest to largest and from largest to smallest.\n",
        "\n",
        "random_numbers = [324, 884, -34, 0, 12344, 5, 6456, 2, 46, 6, -1]"
      ],
      "execution_count": 0,
      "outputs": []
    },
    {
      "cell_type": "code",
      "metadata": {
        "id": "ntym696AyAF9",
        "colab_type": "code",
        "colab": {}
      },
      "source": [
        "########################################################\n",
        "################### Challenge 11 #######################\n",
        "########################################################\n",
        "\n",
        "#  Which one of these is floor division?\n",
        "# a) /\n",
        "# b) //\n",
        "# c) %\n",
        "# d) None of the mentioned"
      ],
      "execution_count": 0,
      "outputs": []
    },
    {
      "cell_type": "code",
      "metadata": {
        "id": "MOmsQJU5yDA9",
        "colab_type": "code",
        "colab": {}
      },
      "source": [
        "#  Suppose list1 is [2, 33, 222, 14, 25], What is list1[-1]? How many elements does the list have?\n",
        "\n",
        "list1 = [2, 33, 222, 14, 25]"
      ],
      "execution_count": 0,
      "outputs": []
    },
    {
      "cell_type": "markdown",
      "metadata": {
        "id": "5LvKak2Bgvpz",
        "colab_type": "text"
      },
      "source": [
        "#### Optional Challenges\n",
        "\n",
        "\n",
        "\n",
        "*   [Strings](https://www.w3resource.com/python-exercises/string)\n",
        "*   [Lists](https://www.w3resource.com/python-exercises/list)"
      ]
    }
  ]
}